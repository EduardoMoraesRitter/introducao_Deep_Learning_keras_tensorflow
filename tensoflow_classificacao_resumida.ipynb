{
  "nbformat": 4,
  "nbformat_minor": 0,
  "metadata": {
    "colab": {
      "name": "tensoflow_classificacao_resumida",
      "provenance": [],
      "authorship_tag": "ABX9TyPbbLQFL7ulWjUCuNvXNGhW",
      "include_colab_link": true
    },
    "kernelspec": {
      "name": "python3",
      "display_name": "Python 3"
    }
  },
  "cells": [
    {
      "cell_type": "markdown",
      "metadata": {
        "id": "view-in-github",
        "colab_type": "text"
      },
      "source": [
        "<a href=\"https://colab.research.google.com/github/EduardoMoraesRitter/introducao_Deep_Learning_keras_tensorflow/blob/master/tensoflow_classificacao_resumida.ipynb\" target=\"_parent\"><img src=\"https://colab.research.google.com/assets/colab-badge.svg\" alt=\"Open In Colab\"/></a>"
      ]
    },
    {
      "cell_type": "markdown",
      "metadata": {
        "id": "tK36Hvopol5I",
        "colab_type": "text"
      },
      "source": [
        "https://www.tensorflow.org/tutorials/keras/classification?hl=pt-br\n",
        "\n",
        "https://www.digitalocean.com/community/tutorials/como-construir-um-classificador-de-machine-learning-em-python-com-scikit-learn-pt\n",
        "\n",
        "https://machinelearningmastery.com/how-to-load-and-manipulate-images-for-deep-learning-in-python-with-pil-pillow/"
      ]
    },
    {
      "cell_type": "code",
      "metadata": {
        "id": "cu9Fh-tL7KTH",
        "colab_type": "code",
        "colab": {
          "base_uri": "https://localhost:8080/",
          "height": 202
        },
        "outputId": "834a8351-1c05-4f39-effb-2d8ff5e768ee"
      },
      "source": [
        "#keras esta dentro do tensorflow\n",
        "import tensorflow\n",
        "from tensorflow import keras\n",
        "import numpy as np\n",
        "import matplotlib.pyplot as plt\n",
        "from tensorflow.keras.models import load_model\n",
        "\n",
        "dataset = keras.datasets.fashion_mnist\n",
        "((imagens_treino, identificacoes_treino), (imagens_teste, identificacoes_teste)) = dataset.load_data()\n",
        "\n",
        "imagens_treino_normalizado = imagens_treino/float(255)\n",
        "imagens_teste_normalizado = imagens_teste/float(255)\n",
        "\n",
        "print(len(imagens_treino_normalizado))\n",
        "print(len(imagens_teste_normalizado))\n",
        "print(imagens_treino.shape)"
      ],
      "execution_count": 1,
      "outputs": [
        {
          "output_type": "stream",
          "text": [
            "Downloading data from https://storage.googleapis.com/tensorflow/tf-keras-datasets/train-labels-idx1-ubyte.gz\n",
            "32768/29515 [=================================] - 0s 0us/step\n",
            "Downloading data from https://storage.googleapis.com/tensorflow/tf-keras-datasets/train-images-idx3-ubyte.gz\n",
            "26427392/26421880 [==============================] - 0s 0us/step\n",
            "Downloading data from https://storage.googleapis.com/tensorflow/tf-keras-datasets/t10k-labels-idx1-ubyte.gz\n",
            "8192/5148 [===============================================] - 0s 0us/step\n",
            "Downloading data from https://storage.googleapis.com/tensorflow/tf-keras-datasets/t10k-images-idx3-ubyte.gz\n",
            "4423680/4422102 [==============================] - 0s 0us/step\n",
            "60000\n",
            "10000\n",
            "(60000, 28, 28)\n"
          ],
          "name": "stdout"
        }
      ]
    },
    {
      "cell_type": "code",
      "metadata": {
        "id": "MHYTl2wCK2sW",
        "colab_type": "code",
        "colab": {
          "base_uri": "https://localhost:8080/",
          "height": 298
        },
        "outputId": "338bec6f-fd22-41f4-f0fa-6f4c888748c3"
      },
      "source": [
        "plt.imshow(imagens_treino[3])\n",
        "plt.title(identificacoes_treino[3])\n",
        "plt.colorbar()"
      ],
      "execution_count": 2,
      "outputs": [
        {
          "output_type": "execute_result",
          "data": {
            "text/plain": [
              "<matplotlib.colorbar.Colorbar at 0x7fd621a565f8>"
            ]
          },
          "metadata": {
            "tags": []
          },
          "execution_count": 2
        },
        {
          "output_type": "display_data",
          "data": {
            "image/png": "[encoded data removed]",
            "text/plain": [
              "<Figure size 432x288 with 2 Axes>"
            ]
          },
          "metadata": {
            "tags": [],
            "needs_background": "light"
          }
        }
      ]
    },
    {
      "cell_type": "code",
      "metadata": {
        "id": "jmsjY6oIMqXR",
        "colab_type": "code",
        "colab": {
          "base_uri": "https://localhost:8080/",
          "height": 298
        },
        "outputId": "a67619ef-a94f-4383-f51b-5a2e9056404f"
      },
      "source": [
        "plt.imshow(imagens_treino_normalizado[3])\n",
        "plt.title(identificacoes_treino[3])\n",
        "plt.colorbar()"
      ],
      "execution_count": 3,
      "outputs": [
        {
          "output_type": "execute_result",
          "data": {
            "text/plain": [
              "<matplotlib.colorbar.Colorbar at 0x7fd6214f9f28>"
            ]
          },
          "metadata": {
            "tags": []
          },
          "execution_count": 3
        },
        {
          "output_type": "display_data",
          "data": {
            "image/png": "[encoded data removed]",
            "text/plain": [
              "<Figure size 432x288 with 2 Axes>"
            ]
          },
          "metadata": {
            "tags": [],
            "needs_background": "light"
          }
        }
      ]
    },
    {
      "cell_type": "code",
      "metadata": {
        "id": "Cw_suuJO7-8N",
        "colab_type": "code",
        "colab": {
          "base_uri": "https://localhost:8080/",
          "height": 353
        },
        "outputId": "3f3e63af-0449-4417-ed60-750b27104d9e"
      },
      "source": [
        "modelo = keras.Sequential([\n",
        "                           keras.layers.Flatten(input_shape=(28, 28)),\n",
        "                           keras.layers.Dense(256, activation=tensorflow.nn.relu),\n",
        "                           keras.layers.Dropout(0.2),\n",
        "                           keras.layers.Dense(10, activation=tensorflow.nn.softmax)\n",
        "                           ])\n",
        "\n",
        "modelo.compile(optimizer='adam', \n",
        "               loss='sparse_categorical_crossentropy', metrics=['accuracy'])\n",
        "\n",
        "historico = modelo.fit(imagens_treino_normalizado, identificacoes_treino, epochs=10, validation_split=0.2)"
      ],
      "execution_count": 4,
      "outputs": [
        {
          "output_type": "stream",
          "text": [
            "Epoch 1/10\n",
            "1500/1500 [==============================] - 5s 3ms/step - loss: 0.5300 - accuracy: 0.8131 - val_loss: 0.4170 - val_accuracy: 0.8514\n",
            "Epoch 2/10\n",
            "1500/1500 [==============================] - 5s 3ms/step - loss: 0.3982 - accuracy: 0.8554 - val_loss: 0.3684 - val_accuracy: 0.8674\n",
            "Epoch 3/10\n",
            "1500/1500 [==============================] - 5s 3ms/step - loss: 0.3616 - accuracy: 0.8678 - val_loss: 0.3656 - val_accuracy: 0.8673\n",
            "Epoch 4/10\n",
            "1500/1500 [==============================] - 5s 3ms/step - loss: 0.3408 - accuracy: 0.8746 - val_loss: 0.3435 - val_accuracy: 0.8763\n",
            "Epoch 5/10\n",
            "1500/1500 [==============================] - 5s 3ms/step - loss: 0.3225 - accuracy: 0.8815 - val_loss: 0.3388 - val_accuracy: 0.8762\n",
            "Epoch 6/10\n",
            "1500/1500 [==============================] - 5s 3ms/step - loss: 0.3099 - accuracy: 0.8846 - val_loss: 0.3262 - val_accuracy: 0.8820\n",
            "Epoch 7/10\n",
            "1500/1500 [==============================] - 5s 4ms/step - loss: 0.2976 - accuracy: 0.8879 - val_loss: 0.3255 - val_accuracy: 0.8827\n",
            "Epoch 8/10\n",
            "1500/1500 [==============================] - 5s 3ms/step - loss: 0.2889 - accuracy: 0.8910 - val_loss: 0.3185 - val_accuracy: 0.8849\n",
            "Epoch 9/10\n",
            "1500/1500 [==============================] - 5s 3ms/step - loss: 0.2798 - accuracy: 0.8944 - val_loss: 0.3212 - val_accuracy: 0.8848\n",
            "Epoch 10/10\n",
            "1500/1500 [==============================] - 5s 3ms/step - loss: 0.2705 - accuracy: 0.8982 - val_loss: 0.3099 - val_accuracy: 0.8869\n"
          ],
          "name": "stdout"
        }
      ]
    },
    {
      "cell_type": "code",
      "metadata": {
        "id": "0yIuOT1AJs-Z",
        "colab_type": "code",
        "colab": {
          "base_uri": "https://localhost:8080/",
          "height": 312
        },
        "outputId": "d88df818-9ae1-41fd-c4bd-78e9b5e0c6b9"
      },
      "source": [
        "fig, axs = plt.subplots(1,2, figsize=(10,4))\n",
        "\n",
        "#visualizar a acuracia conforme o treino\n",
        "axs[0].plot(historico.history['accuracy'])\n",
        "axs[0].plot(historico.history['val_accuracy'])\n",
        "axs[0].set_title('acuracia por epoca')\n",
        "axs[0].set_xlabel('epocas')\n",
        "axs[0].set_ylabel('acuracia')\n",
        "axs[0].legend(['treino', 'avaliacao'])\n",
        "\n",
        "#visualizar a perca conforme o treino\n",
        "axs[1].plot(historico.history['loss'])\n",
        "axs[1].plot(historico.history['val_loss'])\n",
        "axs[1].set_title('perca por epoca')\n",
        "axs[1].set_xlabel('epocas')\n",
        "axs[1].set_ylabel('perca')\n",
        "axs[1].legend(['treino', 'validacao'])"
      ],
      "execution_count": 6,
      "outputs": [
        {
          "output_type": "execute_result",
          "data": {
            "text/plain": [
              "<matplotlib.legend.Legend at 0x7f54755084e0>"
            ]
          },
          "metadata": {
            "tags": []
          },
          "execution_count": 6
        },
        {
          "output_type": "display_data",
          "data": {
            "image/png": "[encoded data removed]",
            "text/plain": [
              "<Figure size 720x288 with 2 Axes>"
            ]
          },
          "metadata": {
            "tags": [],
            "needs_background": "light"
          }
        }
      ]
    },
    {
      "cell_type": "code",
      "metadata": {
        "id": "9y2VyMuT8Ksm",
        "colab_type": "code",
        "colab": {}
      },
      "source": [
        "modelo.save('modelo.h5')\n",
        "modelo_carregado = load_model('modelo.h5', compile=False)"
      ],
      "execution_count": 0,
      "outputs": []
    },
    {
      "cell_type": "code",
      "metadata": {
        "id": "qBv4-O7SKpvM",
        "colab_type": "code",
        "colab": {
          "base_uri": "https://localhost:8080/",
          "height": 50
        },
        "outputId": "1ecea3f3-a073-47fb-99ba-d5b3ed12df8b"
      },
      "source": [
        "testes = modelo_carregado.predict(imagens_teste_normalizado)\n",
        "\n",
        "print(\"teste: \", np.argmax(testes[0]))\n",
        "print(\"real: \", identificacoes_teste[0])"
      ],
      "execution_count": 8,
      "outputs": [
        {
          "output_type": "stream",
          "text": [
            "teste:  9\n",
            "real:  9\n"
          ],
          "name": "stdout"
        }
      ]
    },
    {
      "cell_type": "markdown",
      "metadata": {
        "id": "d0srdsYMNuOM",
        "colab_type": "text"
      },
      "source": [
        "testes de quantidade de itens"
      ]
    },
    {
      "cell_type": "code",
      "metadata": {
        "id": "BOyOMRxkKzor",
        "colab_type": "code",
        "colab": {
          "base_uri": "https://localhost:8080/",
          "height": 34
        },
        "outputId": "b070054b-ad15-46a3-a122-01a8b57b24dc"
      },
      "source": [
        "modelo = keras.Sequential([\n",
        "                           keras.layers.Flatten(input_shape=(28, 28)),\n",
        "                           keras.layers.Dense(256, activation=tensorflow.nn.relu),\n",
        "                           keras.layers.Dropout(0.2),\n",
        "                           keras.layers.Dense(10, activation=tensorflow.nn.softmax)\n",
        "                           ])\n",
        "\n",
        "modelo.compile(optimizer='adam', \n",
        "               loss='sparse_categorical_crossentropy', metrics=['accuracy'])\n",
        "\n",
        "historico = modelo.fit(imagens_treino_normalizado[:60000], identificacoes_treino[:60000])"
      ],
      "execution_count": 9,
      "outputs": [
        {
          "output_type": "stream",
          "text": [
            "1875/1875 [==============================] - 5s 3ms/step - loss: 0.5067 - accuracy: 0.8189\n"
          ],
          "name": "stdout"
        }
      ]
    }
  ]
}