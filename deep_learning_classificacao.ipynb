{
  "nbformat": 4,
  "nbformat_minor": 0,
  "metadata": {
    "colab": {
      "name": "deep_learning_classificacao.ipynb",
      "provenance": [],
      "authorship_tag": "ABX9TyOKZo0ep3Sq0jeLyyQHiWuo",
      "include_colab_link": true
    },
    "kernelspec": {
      "name": "python3",
      "display_name": "Python 3"
    }
  },
  "cells": [
    {
      "cell_type": "markdown",
      "metadata": {
        "id": "view-in-github",
        "colab_type": "text"
      },
      "source": [
        "<a href=\"https://colab.research.google.com/github/EduardoMoraesRitter/introducao_Deep_Learning_keras_tensorflow/blob/master/deep_learning_classificacao.ipynb\" target=\"_parent\"><img src=\"https://colab.research.google.com/assets/colab-badge.svg\" alt=\"Open In Colab\"/></a>"
      ]
    },
    {
      "cell_type": "markdown",
      "metadata": {
        "id": "Qpdj4IorWG10",
        "colab_type": "text"
      },
      "source": [
        "introdutório de  Deep Learning é uma subcategoria do Machine Learning:\n",
        "\n",
        "*   Deep Learning se baseia em duas coisas: vetores e tensores\n",
        "\n",
        "*   biblioteca do Google especializada em Redes Neurais Profundas chamada TensorFlow, usando API alto nível que está acima do TensorFlow o Keras foi construído em cima de uma outra biblioteca chamada Theano.\n",
        "\n",
        "*   dataset chamado Fashion-MNIST organizado com imagens de várias roupas diferentes. https://github.com/zalandoresearch/fashion-mnist\n",
        "\n",
        "*   visualizar a imagem usando matplotlib.pyplot\n",
        "\n",
        "*   nosso modelo tem 3 camadas\n",
        "\n",
        "    1.   camada 0 que está “achatando” as nossas imagens de 28 por 28 pixels em um array de 784 pixels. array de 2 dimensões e achatando-o para que fique com uma dimensão única usando Flatten\n",
        "\n",
        "    2.   camada 1, A camada dense (densa) é aquela que faz as conexões entre todas as unidades da camada 2 com as unidades da camada 1. TensorFlow  múltiplo de 2\n",
        "\n",
        "\n",
        "\n",
        "\n",
        "\n",
        "\n",
        "A função não linear introduz no modelo a transformação dos dados necessária para identificarmos as diferenças nas imagens que vamos classificar. Nesse caso, escolhemos a função ReLU.\n"
      ]
    },
    {
      "cell_type": "code",
      "metadata": {
        "id": "O3EnH7SAWkUG",
        "colab_type": "code",
        "colab": {}
      },
      "source": [
        "#keras esta dentro do tensorflow\n",
        "import tensorflow\n",
        "from tensorflow import keras"
      ],
      "execution_count": 0,
      "outputs": []
    },
    {
      "cell_type": "code",
      "metadata": {
        "id": "Bvt5YS3_UPsZ",
        "colab_type": "code",
        "colab": {}
      },
      "source": [
        "#pegar o dataset\n",
        "dataset = keras.datasets.fashion_mnist"
      ],
      "execution_count": 0,
      "outputs": []
    },
    {
      "cell_type": "code",
      "metadata": {
        "id": "lxZOxkU6WhLK",
        "colab_type": "code",
        "outputId": "bc442c3e-c740-403a-9838-dc2c4b294824",
        "colab": {
          "base_uri": "https://localhost:8080/",
          "height": 994
        }
      },
      "source": [
        "#carregar dados\n",
        "((imagens_treino, identificacoes_treino), (imagens_teste, identificacoes_teste)) = dataset.load_data()\n",
        "imagens_treino"
      ],
      "execution_count": 3,
      "outputs": [
        {
          "output_type": "stream",
          "text": [
            "Downloading data from https://storage.googleapis.com/tensorflow/tf-keras-datasets/train-labels-idx1-ubyte.gz\n",
            "32768/29515 [=================================] - 0s 0us/step\n",
            "Downloading data from https://storage.googleapis.com/tensorflow/tf-keras-datasets/train-images-idx3-ubyte.gz\n",
            "26427392/26421880 [==============================] - 0s 0us/step\n",
            "Downloading data from https://storage.googleapis.com/tensorflow/tf-keras-datasets/t10k-labels-idx1-ubyte.gz\n",
            "8192/5148 [===============================================] - 0s 0us/step\n",
            "Downloading data from https://storage.googleapis.com/tensorflow/tf-keras-datasets/t10k-images-idx3-ubyte.gz\n",
            "4423680/4422102 [==============================] - 0s 0us/step\n"
          ],
          "name": "stdout"
        },
        {
          "output_type": "execute_result",
          "data": {
            "text/plain": [
              "array([[[0, 0, 0, ..., 0, 0, 0],\n",
              "        [0, 0, 0, ..., 0, 0, 0],\n",
              "        [0, 0, 0, ..., 0, 0, 0],\n",
              "        ...,\n",
              "        [0, 0, 0, ..., 0, 0, 0],\n",
              "        [0, 0, 0, ..., 0, 0, 0],\n",
              "        [0, 0, 0, ..., 0, 0, 0]],\n",
              "\n",
              "       [[0, 0, 0, ..., 0, 0, 0],\n",
              "        [0, 0, 0, ..., 0, 0, 0],\n",
              "        [0, 0, 0, ..., 0, 0, 0],\n",
              "        ...,\n",
              "        [0, 0, 0, ..., 0, 0, 0],\n",
              "        [0, 0, 0, ..., 0, 0, 0],\n",
              "        [0, 0, 0, ..., 0, 0, 0]],\n",
              "\n",
              "       [[0, 0, 0, ..., 0, 0, 0],\n",
              "        [0, 0, 0, ..., 0, 0, 0],\n",
              "        [0, 0, 0, ..., 0, 0, 0],\n",
              "        ...,\n",
              "        [0, 0, 0, ..., 0, 0, 0],\n",
              "        [0, 0, 0, ..., 0, 0, 0],\n",
              "        [0, 0, 0, ..., 0, 0, 0]],\n",
              "\n",
              "       ...,\n",
              "\n",
              "       [[0, 0, 0, ..., 0, 0, 0],\n",
              "        [0, 0, 0, ..., 0, 0, 0],\n",
              "        [0, 0, 0, ..., 0, 0, 0],\n",
              "        ...,\n",
              "        [0, 0, 0, ..., 0, 0, 0],\n",
              "        [0, 0, 0, ..., 0, 0, 0],\n",
              "        [0, 0, 0, ..., 0, 0, 0]],\n",
              "\n",
              "       [[0, 0, 0, ..., 0, 0, 0],\n",
              "        [0, 0, 0, ..., 0, 0, 0],\n",
              "        [0, 0, 0, ..., 0, 0, 0],\n",
              "        ...,\n",
              "        [0, 0, 0, ..., 0, 0, 0],\n",
              "        [0, 0, 0, ..., 0, 0, 0],\n",
              "        [0, 0, 0, ..., 0, 0, 0]],\n",
              "\n",
              "       [[0, 0, 0, ..., 0, 0, 0],\n",
              "        [0, 0, 0, ..., 0, 0, 0],\n",
              "        [0, 0, 0, ..., 0, 0, 0],\n",
              "        ...,\n",
              "        [0, 0, 0, ..., 0, 0, 0],\n",
              "        [0, 0, 0, ..., 0, 0, 0],\n",
              "        [0, 0, 0, ..., 0, 0, 0]]], dtype=uint8)"
            ]
          },
          "metadata": {
            "tags": []
          },
          "execution_count": 3
        }
      ]
    },
    {
      "cell_type": "code",
      "metadata": {
        "id": "yIrwqojTW3OH",
        "colab_type": "code",
        "outputId": "ce64ff42-a043-4b0f-eb1c-36e48df3263c",
        "colab": {
          "base_uri": "https://localhost:8080/",
          "height": 34
        }
      },
      "source": [
        "#imagens de treino\n",
        "len(imagens_treino)"
      ],
      "execution_count": 4,
      "outputs": [
        {
          "output_type": "execute_result",
          "data": {
            "text/plain": [
              "60000"
            ]
          },
          "metadata": {
            "tags": []
          },
          "execution_count": 4
        }
      ]
    },
    {
      "cell_type": "code",
      "metadata": {
        "id": "9idst3jrYkwE",
        "colab_type": "code",
        "outputId": "a0e078c0-e286-4c21-9b12-358354182e0c",
        "colab": {
          "base_uri": "https://localhost:8080/",
          "height": 34
        }
      },
      "source": [
        "#uma imagem de 28 por 28 as dimencoes\n",
        "imagens_treino.shape"
      ],
      "execution_count": 5,
      "outputs": [
        {
          "output_type": "execute_result",
          "data": {
            "text/plain": [
              "(60000, 28, 28)"
            ]
          },
          "metadata": {
            "tags": []
          },
          "execution_count": 5
        }
      ]
    },
    {
      "cell_type": "code",
      "metadata": {
        "id": "nNq7YqGMYnO-",
        "colab_type": "code",
        "colab": {}
      },
      "source": [
        "#visualizar a imagem\n",
        "import matplotlib.pyplot as plt"
      ],
      "execution_count": 0,
      "outputs": []
    },
    {
      "cell_type": "code",
      "metadata": {
        "id": "HS7pVdPTZEKP",
        "colab_type": "code",
        "outputId": "f351f3fd-52d1-4b9d-9eca-9edbe1f934de",
        "colab": {
          "base_uri": "https://localhost:8080/",
          "height": 298
        }
      },
      "source": [
        "plt.imshow(imagens_treino[0])\n",
        "plt.title(identificacoes_treino[0])"
      ],
      "execution_count": 7,
      "outputs": [
        {
          "output_type": "execute_result",
          "data": {
            "text/plain": [
              "Text(0.5, 1.0, '9')"
            ]
          },
          "metadata": {
            "tags": []
          },
          "execution_count": 7
        },
        {
          "output_type": "display_data",
          "data": {
            "image/png": "[encoded data removed]",
            "text/plain": [
              "<Figure size 432x288 with 1 Axes>"
            ]
          },
          "metadata": {
            "tags": [],
            "needs_background": "light"
          }
        }
      ]
    },
    {
      "cell_type": "code",
      "metadata": {
        "id": "mISsriHKZMLX",
        "colab_type": "code",
        "outputId": "87fa9099-e043-4325-9499-ac103cde6cc6",
        "colab": {
          "base_uri": "https://localhost:8080/",
          "height": 34
        }
      },
      "source": [
        "identificacoes_treino"
      ],
      "execution_count": 8,
      "outputs": [
        {
          "output_type": "execute_result",
          "data": {
            "text/plain": [
              "array([9, 0, 0, ..., 3, 0, 5], dtype=uint8)"
            ]
          },
          "metadata": {
            "tags": []
          },
          "execution_count": 8
        }
      ]
    },
    {
      "cell_type": "code",
      "metadata": {
        "id": "gphmSH-ZczDd",
        "colab_type": "code",
        "outputId": "2ced4c36-0d19-432e-85b0-abcb6eafcc59",
        "colab": {
          "base_uri": "https://localhost:8080/",
          "height": 240
        }
      },
      "source": [
        "#loop para mostrar algumas fotos\n",
        "for i in range(10):\n",
        "  #quando colocamos mais de um grafico precisamos colocar um subgrafico, passando 2 linhas e 5 colunas\n",
        "  plt.subplot(2,5,i+1)\n",
        "  plt.imshow(imagens_treino[i])\n",
        "  plt.title(identificacoes_treino[i])"
      ],
      "execution_count": 9,
      "outputs": [
        {
          "output_type": "display_data",
          "data": {
            "image/png": "[encoded data removed]",
            "text/plain": [
              "<Figure size 432x288 with 10 Axes>"
            ]
          },
          "metadata": {
            "tags": [],
            "needs_background": "light"
          }
        }
      ]
    },
    {
      "cell_type": "code",
      "metadata": {
        "id": "IOK7VTURn6g4",
        "colab_type": "code",
        "outputId": "e675e1b3-65be-4e49-e506-daebfe440eb9",
        "colab": {
          "base_uri": "https://localhost:8080/",
          "height": 185
        }
      },
      "source": [
        "nome_classificacoes = ['camiseta','calsa','pullover','cestido','casaco',\n",
        "                       'sandalia','camisa','tenis','bolsa','bota']\n",
        "nome_classificacoes"
      ],
      "execution_count": 10,
      "outputs": [
        {
          "output_type": "execute_result",
          "data": {
            "text/plain": [
              "['camiseta',\n",
              " 'calsa',\n",
              " 'pullover',\n",
              " 'cestido',\n",
              " 'casaco',\n",
              " 'sandalia',\n",
              " 'camisa',\n",
              " 'tenis',\n",
              " 'bolsa',\n",
              " 'bota']"
            ]
          },
          "metadata": {
            "tags": []
          },
          "execution_count": 10
        }
      ]
    },
    {
      "cell_type": "code",
      "metadata": {
        "id": "qy5p0WuiriIx",
        "colab_type": "code",
        "outputId": "ccff314f-883b-4573-da49-ef0ffc97d50f",
        "colab": {
          "base_uri": "https://localhost:8080/",
          "height": 240
        }
      },
      "source": [
        "#loop para mostrar algumas fotos\n",
        "for i in range(10):\n",
        "  #quando colocamos mais de um grafico precisamos colocar um subgrafico, passando 2 linhas e 5 colunas\n",
        "  plt.subplot(2,5,i+1)\n",
        "  plt.imshow(imagens_treino[i])\n",
        "  plt.title(nome_classificacoes[identificacoes_treino[i]])"
      ],
      "execution_count": 11,
      "outputs": [
        {
          "output_type": "display_data",
          "data": {
            "image/png": "[encoded data removed]",
            "text/plain": [
              "<Figure size 432x288 with 10 Axes>"
            ]
          },
          "metadata": {
            "tags": [],
            "needs_background": "light"
          }
        }
      ]
    },
    {
      "cell_type": "markdown",
      "metadata": {
        "id": "rGCjAivXBSj_",
        "colab_type": "text"
      },
      "source": [
        "#Criando o modelo\n",
        "---\n",
        "camadas(layers) da rede neural\n",
        "\n",
        "modelo > entrada > processamento > saida\n",
        "\n",
        "temos  >    56    >       256     >   10  \n",
        "\n",
        "\n",
        "\n",
        "\n"
      ]
    },
    {
      "cell_type": "code",
      "metadata": {
        "id": "bf4zkJYYrkz1",
        "colab_type": "code",
        "colab": {
          "base_uri": "https://localhost:8080/",
          "height": 50
        },
        "outputId": "65e1ae96-a532-4e62-d48c-42789c50c46e"
      },
      "source": [
        "#camada 0(Flatten) um achatamento transformando imagens de 28x28 pixel em 56 dimencoes\n",
        "#camada 1(Dense) camada profunca, sempre multiplo de 2 para numero de NOS e activation ReLU - funcao nao linear transforma negativo em 0 \n",
        "#camada 2(softmax), Softmax e multicamadas, descreve a \n",
        "modelo1 = keras.Sequential([\n",
        "                           keras.layers.Flatten(input_shape=(28, 28)),\n",
        "                           keras.layers.Dense(256, activation=tensorflow.nn.relu),\n",
        "                           keras.layers.Dense(10, activation=tensorflow.nn.softmax)\n",
        "                           ])\n",
        "\n",
        "#compliar o modelo, passando o otimizado(adam para valizar classes) e percar de informação(Entropia Cruzada Categórica Esparsa)\n",
        "modelo1.compile(optimizer='adam', \n",
        "               loss='sparse_categorical_crossentropy')\n",
        "\n",
        "modelo1.fit(imagens_treino, identificacoes_treino)\n",
        "#saida vemos:\n",
        "#epoch(épocas um ciculo) é quantas vezes passamos por cada uma das imagen;\n",
        "#quantidade de imagens\n",
        "#loss(perca) de 3,5% temos que ter o minimo possivel"
      ],
      "execution_count": 12,
      "outputs": [
        {
          "output_type": "stream",
          "text": [
            "1875/1875 [==============================] - 4s 2ms/step - loss: 3.5978\n"
          ],
          "name": "stdout"
        },
        {
          "output_type": "execute_result",
          "data": {
            "text/plain": [
              "<tensorflow.python.keras.callbacks.History at 0x7f12ef129630>"
            ]
          },
          "metadata": {
            "tags": []
          },
          "execution_count": 12
        }
      ]
    },
    {
      "cell_type": "markdown",
      "metadata": {
        "id": "RGnAvkhTB7xZ",
        "colab_type": "text"
      },
      "source": [
        "graduacao de cores sao as dimencoes 0 a 255. "
      ]
    },
    {
      "cell_type": "markdown",
      "metadata": {
        "id": "1LRvaGvNCiDd",
        "colab_type": "text"
      },
      "source": [
        "#normalizacao\n",
        "\n",
        "transformar as imagens de 0 a 255 para 0 e 1\n",
        "\n",
        "diminuir as variacoes de cores converter para 0 e 1 e esses valores do meio podem ser 0.1, 0.4, 0.6 ..."
      ]
    },
    {
      "cell_type": "code",
      "metadata": {
        "id": "d5tZdvKRBrBD",
        "colab_type": "code",
        "colab": {
          "base_uri": "https://localhost:8080/",
          "height": 298
        },
        "outputId": "60813bc0-009b-48bf-fe03-3d7e2abbe99d"
      },
      "source": [
        "plt.imshow(imagens_treino[3])\n",
        "plt.title(identificacoes_treino[3])\n",
        "plt.colorbar()"
      ],
      "execution_count": 13,
      "outputs": [
        {
          "output_type": "execute_result",
          "data": {
            "text/plain": [
              "<matplotlib.colorbar.Colorbar at 0x7f12ec2a7ef0>"
            ]
          },
          "metadata": {
            "tags": []
          },
          "execution_count": 13
        },
        {
          "output_type": "display_data",
          "data": {
            "image/png": "[encoded data removed]",
            "text/plain": [
              "<Figure size 432x288 with 2 Axes>"
            ]
          },
          "metadata": {
            "tags": [],
            "needs_background": "light"
          }
        }
      ]
    },
    {
      "cell_type": "code",
      "metadata": {
        "id": "IGrlDHSCDJxK",
        "colab_type": "code",
        "colab": {
          "base_uri": "https://localhost:8080/",
          "height": 168
        },
        "outputId": "c76636ca-14ba-4d33-8970-fcb35144abe6"
      },
      "source": [
        "#normalizar os dados, esse print é da primeira linha so\n",
        "print(\"original: \", imagens_treino[3][0])\n",
        "imagens_treino_normalizado = imagens_treino/float(255)\n",
        "print(\"\\n\\n normalizado: \", imagens_treino_normalizado[3][0])"
      ],
      "execution_count": 14,
      "outputs": [
        {
          "output_type": "stream",
          "text": [
            "original:  [  0   0   0   0   0   0   0   0  33  96 175 156  64  14  54 137 204 194\n",
            " 102   0   0   0   0   0   0   0   0   0]\n",
            "\n",
            "\n",
            " normalizado:  [0.         0.         0.         0.         0.         0.\n",
            " 0.         0.         0.12941176 0.37647059 0.68627451 0.61176471\n",
            " 0.25098039 0.05490196 0.21176471 0.5372549  0.8        0.76078431\n",
            " 0.4        0.         0.         0.         0.         0.\n",
            " 0.         0.         0.         0.        ]\n"
          ],
          "name": "stdout"
        }
      ]
    },
    {
      "cell_type": "code",
      "metadata": {
        "id": "ZPoYcKuDHP8a",
        "colab_type": "code",
        "colab": {
          "base_uri": "https://localhost:8080/",
          "height": 298
        },
        "outputId": "8227d06a-ca9b-4943-dbbf-53997ff8d167"
      },
      "source": [
        "#a escala nao muda oq muda é o valor e nao tem perda na imagem\n",
        "plt.imshow(imagens_treino_normalizado[3])\n",
        "plt.title(identificacoes_treino[3])\n",
        "plt.colorbar()"
      ],
      "execution_count": 15,
      "outputs": [
        {
          "output_type": "execute_result",
          "data": {
            "text/plain": [
              "<matplotlib.colorbar.Colorbar at 0x7f12ef03c208>"
            ]
          },
          "metadata": {
            "tags": []
          },
          "execution_count": 15
        },
        {
          "output_type": "display_data",
          "data": {
            "image/png": "[encoded data removed]",
            "text/plain": [
              "<Figure size 432x288 with 2 Axes>"
            ]
          },
          "metadata": {
            "tags": [],
            "needs_background": "light"
          }
        }
      ]
    },
    {
      "cell_type": "code",
      "metadata": {
        "id": "MQoctgnCBrEX",
        "colab_type": "code",
        "colab": {
          "base_uri": "https://localhost:8080/",
          "height": 50
        },
        "outputId": "fd676b4e-8986-4c87-d9e6-e9d92081ff51"
      },
      "source": [
        "#usando imagens normalizadas\n",
        "#agora com 3 camadas 56 > 256 > 128 > 10\n",
        "modelo2 = keras.Sequential([\n",
        "                           keras.layers.Flatten(input_shape=(28, 28)),\n",
        "                           keras.layers.Dense(256, activation=tensorflow.nn.relu),\n",
        "                           keras.layers.Dense(10, activation=tensorflow.nn.softmax)\n",
        "                           ])\n",
        "\n",
        "modelo2.compile(optimizer='adam', \n",
        "               loss='sparse_categorical_crossentropy')\n",
        "\n",
        "modelo2.fit(imagens_treino_normalizado, identificacoes_treino)"
      ],
      "execution_count": 16,
      "outputs": [
        {
          "output_type": "stream",
          "text": [
            "1875/1875 [==============================] - 4s 2ms/step - loss: 0.4852\n"
          ],
          "name": "stdout"
        },
        {
          "output_type": "execute_result",
          "data": {
            "text/plain": [
              "<tensorflow.python.keras.callbacks.History at 0x7f12f54959e8>"
            ]
          },
          "metadata": {
            "tags": []
          },
          "execution_count": 16
        }
      ]
    },
    {
      "cell_type": "markdown",
      "metadata": {
        "id": "Dgs_ajO0EGS5",
        "colab_type": "text"
      },
      "source": [
        "dimunuir a rede com outra camada, camada oculta"
      ]
    },
    {
      "cell_type": "code",
      "metadata": {
        "id": "r_5_k27BEEEn",
        "colab_type": "code",
        "colab": {
          "base_uri": "https://localhost:8080/",
          "height": 50
        },
        "outputId": "096e8ab4-f219-4e45-8028-214644c9fedb"
      },
      "source": [
        "#agora com 4 camadas 56 > 256 > 128 > 10\n",
        "modelo3 = keras.Sequential([\n",
        "                           keras.layers.Flatten(input_shape=(28, 28)),\n",
        "                           keras.layers.Dense(256, activation=tensorflow.nn.relu),\n",
        "                           keras.layers.Dense(128, activation=tensorflow.nn.relu),\n",
        "                           keras.layers.Dense(10, activation=tensorflow.nn.softmax)\n",
        "                           ])\n",
        "\n",
        "modelo3.compile(optimizer='adam', \n",
        "               loss='sparse_categorical_crossentropy')\n",
        "\n",
        "modelo3.fit(imagens_treino_normalizado, identificacoes_treino)\n",
        "#demoro mais por conta da nova camada\n",
        "#teve uma perca a mais"
      ],
      "execution_count": 17,
      "outputs": [
        {
          "output_type": "stream",
          "text": [
            "1875/1875 [==============================] - 5s 3ms/step - loss: 0.4759\n"
          ],
          "name": "stdout"
        },
        {
          "output_type": "execute_result",
          "data": {
            "text/plain": [
              "<tensorflow.python.keras.callbacks.History at 0x7f12f5769630>"
            ]
          },
          "metadata": {
            "tags": []
          },
          "execution_count": 17
        }
      ]
    },
    {
      "cell_type": "code",
      "metadata": {
        "id": "l4LjpkBHEEIN",
        "colab_type": "code",
        "colab": {
          "base_uri": "https://localhost:8080/",
          "height": 50
        },
        "outputId": "9a63c108-77af-43fb-f6fb-c2c305880fc9"
      },
      "source": [
        "#agora com 5 camadas 56 > 256 > 128 > 64 > 10\n",
        "modelo4 = keras.Sequential([\n",
        "                           keras.layers.Flatten(input_shape=(28, 28)),\n",
        "                           keras.layers.Dense(256, activation=tensorflow.nn.relu),\n",
        "                           keras.layers.Dense(128, activation=tensorflow.nn.relu),\n",
        "                           keras.layers.Dense(64, activation=tensorflow.nn.relu),\n",
        "                           keras.layers.Dense(10, activation=tensorflow.nn.softmax)\n",
        "                           ])\n",
        "\n",
        "modelo4.compile(optimizer='adam', \n",
        "               loss='sparse_categorical_crossentropy')\n",
        "\n",
        "modelo4.fit(imagens_treino_normalizado, identificacoes_treino)\n",
        "#demoro mais por conta da nova camada\n",
        "#teve uma perca a mais"
      ],
      "execution_count": 18,
      "outputs": [
        {
          "output_type": "stream",
          "text": [
            "1875/1875 [==============================] - 5s 3ms/step - loss: 0.4869\n"
          ],
          "name": "stdout"
        },
        {
          "output_type": "execute_result",
          "data": {
            "text/plain": [
              "<tensorflow.python.keras.callbacks.History at 0x7f12f5dedf60>"
            ]
          },
          "metadata": {
            "tags": []
          },
          "execution_count": 18
        }
      ]
    },
    {
      "cell_type": "code",
      "metadata": {
        "id": "VWPEi7TxEEB2",
        "colab_type": "code",
        "colab": {
          "base_uri": "https://localhost:8080/",
          "height": 50
        },
        "outputId": "b7fe929f-57ca-4b53-fe6d-539d1b72abcb"
      },
      "source": [
        "#agora com 4 camadas 56 > 64 > 10\n",
        "modelo5 = keras.Sequential([\n",
        "                           keras.layers.Flatten(input_shape=(28, 28)),\n",
        "                           keras.layers.Dense(64, activation=tensorflow.nn.relu),\n",
        "                           keras.layers.Dense(10, activation=tensorflow.nn.softmax)\n",
        "                           ])\n",
        "\n",
        "modelo5.compile(optimizer='adam', \n",
        "               loss='sparse_categorical_crossentropy')\n",
        "\n",
        "modelo5.fit(imagens_treino_normalizado, identificacoes_treino)"
      ],
      "execution_count": 19,
      "outputs": [
        {
          "output_type": "stream",
          "text": [
            "1875/1875 [==============================] - 3s 1ms/step - loss: 0.5175\n"
          ],
          "name": "stdout"
        },
        {
          "output_type": "execute_result",
          "data": {
            "text/plain": [
              "<tensorflow.python.keras.callbacks.History at 0x7f12f5813630>"
            ]
          },
          "metadata": {
            "tags": []
          },
          "execution_count": 19
        }
      ]
    },
    {
      "cell_type": "code",
      "metadata": {
        "id": "U2N0ciYdJUFX",
        "colab_type": "code",
        "colab": {}
      },
      "source": [
        ""
      ],
      "execution_count": 0,
      "outputs": []
    },
    {
      "cell_type": "markdown",
      "metadata": {
        "id": "9ML2zCeXKAIf",
        "colab_type": "text"
      },
      "source": [
        "mudar as epocas e medir a acuracia"
      ]
    },
    {
      "cell_type": "code",
      "metadata": {
        "id": "4JA3Kfn7JUDk",
        "colab_type": "code",
        "colab": {
          "base_uri": "https://localhost:8080/",
          "height": 222
        },
        "outputId": "89148351-7c88-4206-d360-e257d2cfb815"
      },
      "source": [
        "#4 camadas 56 > 256 > 10\n",
        "#agora almentar as epocas epochs=5\n",
        "#saber as metricas de accuracy\n",
        "modelo6 = keras.Sequential([\n",
        "                           keras.layers.Flatten(input_shape=(28, 28)),\n",
        "                           keras.layers.Dense(256, activation=tensorflow.nn.relu),\n",
        "                           keras.layers.Dense(10, activation=tensorflow.nn.softmax)\n",
        "                           ])\n",
        "\n",
        "modelo6.compile(optimizer='adam', \n",
        "               loss='sparse_categorical_crossentropy', metrics=['accuracy'])\n",
        "\n",
        "modelo6.fit(imagens_treino_normalizado, identificacoes_treino, epochs=5)"
      ],
      "execution_count": 20,
      "outputs": [
        {
          "output_type": "stream",
          "text": [
            "Epoch 1/5\n",
            "1875/1875 [==============================] - 5s 2ms/step - loss: 0.4848 - accuracy: 0.8278\n",
            "Epoch 2/5\n",
            "1875/1875 [==============================] - 5s 2ms/step - loss: 0.3637 - accuracy: 0.8672\n",
            "Epoch 3/5\n",
            "1875/1875 [==============================] - 5s 2ms/step - loss: 0.3266 - accuracy: 0.8809\n",
            "Epoch 4/5\n",
            "1875/1875 [==============================] - 5s 2ms/step - loss: 0.3017 - accuracy: 0.8881\n",
            "Epoch 5/5\n",
            "1875/1875 [==============================] - 5s 2ms/step - loss: 0.2873 - accuracy: 0.8935\n"
          ],
          "name": "stdout"
        },
        {
          "output_type": "execute_result",
          "data": {
            "text/plain": [
              "<tensorflow.python.keras.callbacks.History at 0x7f12f58e00f0>"
            ]
          },
          "metadata": {
            "tags": []
          },
          "execution_count": 20
        }
      ]
    },
    {
      "cell_type": "markdown",
      "metadata": {
        "id": "7cc0SUZ9KpII",
        "colab_type": "text"
      },
      "source": [
        "predicao e testes"
      ]
    },
    {
      "cell_type": "code",
      "metadata": {
        "id": "VAWlbJWmJT_N",
        "colab_type": "code",
        "colab": {
          "base_uri": "https://localhost:8080/",
          "height": 34
        },
        "outputId": "0704b83c-a967-44ba-a97e-9717ff3ab3b4"
      },
      "source": [
        "testes = modelo6.predict(imagens_teste)\n",
        "#retona 10 posicoes\n",
        "testes[0]"
      ],
      "execution_count": 21,
      "outputs": [
        {
          "output_type": "execute_result",
          "data": {
            "text/plain": [
              "array([0., 0., 0., 0., 0., 0., 0., 0., 0., 1.], dtype=float32)"
            ]
          },
          "metadata": {
            "tags": []
          },
          "execution_count": 21
        }
      ]
    },
    {
      "cell_type": "code",
      "metadata": {
        "id": "q53PW0gYK996",
        "colab_type": "code",
        "colab": {}
      },
      "source": [
        "import numpy as np"
      ],
      "execution_count": 0,
      "outputs": []
    },
    {
      "cell_type": "code",
      "metadata": {
        "id": "AYTYjOwALC0T",
        "colab_type": "code",
        "colab": {
          "base_uri": "https://localhost:8080/",
          "height": 50
        },
        "outputId": "92da09df-b2af-4313-b838-adc14d5f3f57"
      },
      "source": [
        "print(\"teste: \", np.argmax(testes[0]))\n",
        "print(\"real: \", identificacoes_teste[0])"
      ],
      "execution_count": 23,
      "outputs": [
        {
          "output_type": "stream",
          "text": [
            "teste:  9\n",
            "real:  9\n"
          ],
          "name": "stdout"
        }
      ]
    },
    {
      "cell_type": "code",
      "metadata": {
        "id": "efm4uuGzLC5g",
        "colab_type": "code",
        "colab": {
          "base_uri": "https://localhost:8080/",
          "height": 87
        },
        "outputId": "408d6773-398d-441b-ec99-702519c3d569"
      },
      "source": [
        "#funcao de avaliacao\n",
        "perda_teste, acuracia_teste = modelo6.evaluate(imagens_teste, identificacoes_teste)\n",
        "print('acuracia: ', acuracia_teste)\n",
        "print('perda: ', perda_teste)"
      ],
      "execution_count": 24,
      "outputs": [
        {
          "output_type": "stream",
          "text": [
            "313/313 [==============================] - 0s 1ms/step - loss: 52.3196 - accuracy: 0.8633\n",
            "acuracia:  0.8633000254631042\n",
            "perda:  52.31959533691406\n"
          ],
          "name": "stdout"
        }
      ]
    },
    {
      "cell_type": "code",
      "metadata": {
        "id": "rDc2IB_yLvPL",
        "colab_type": "code",
        "colab": {
          "base_uri": "https://localhost:8080/",
          "height": 87
        },
        "outputId": "d7fc01e6-3b8b-40e2-ddc9-b36d73317ddd"
      },
      "source": [
        "#converter as imagens tbm?\n",
        "imagens_teste_normalizado = imagens_teste/float(255)\n",
        "\n",
        "#funcao de avaliacao\n",
        "perda_teste, acuracia_teste = modelo6.evaluate(imagens_teste_normalizado, identificacoes_teste)\n",
        "print('acuracia: ', acuracia_teste)\n",
        "print('perda: ', perda_teste)"
      ],
      "execution_count": 25,
      "outputs": [
        {
          "output_type": "stream",
          "text": [
            "313/313 [==============================] - 0s 2ms/step - loss: 0.3363 - accuracy: 0.8800\n",
            "acuracia:  0.8799999952316284\n",
            "perda:  0.3362891674041748\n"
          ],
          "name": "stdout"
        }
      ]
    },
    {
      "cell_type": "markdown",
      "metadata": {
        "id": "tLGACbAnNkwN",
        "colab_type": "text"
      },
      "source": [
        "#separar dados para validacao e visulizar"
      ]
    },
    {
      "cell_type": "code",
      "metadata": {
        "id": "vbP2HEI1LvRq",
        "colab_type": "code",
        "colab": {
          "base_uri": "https://localhost:8080/",
          "height": 205
        },
        "outputId": "066f679d-6a0d-4ca1-ad75-559de1205bd2"
      },
      "source": [
        "#4 camadas 56 > 256 > 10\n",
        "#agora almentar as epocas epochs=5\n",
        "#saber as metricas de accuracy\n",
        "#tbm incluir dados para a validacao de 20%\n",
        "modelo7 = keras.Sequential([\n",
        "                           keras.layers.Flatten(input_shape=(28, 28)),\n",
        "                           keras.layers.Dense(256, activation=tensorflow.nn.relu),\n",
        "                           keras.layers.Dense(10, activation=tensorflow.nn.softmax)\n",
        "                           ])\n",
        "\n",
        "modelo7.compile(optimizer='adam', \n",
        "               loss='sparse_categorical_crossentropy', metrics=['accuracy'])\n",
        "\n",
        "historico7 = modelo7.fit(imagens_treino_normalizado, identificacoes_treino, epochs=5, validation_split=0.2)"
      ],
      "execution_count": 26,
      "outputs": [
        {
          "output_type": "stream",
          "text": [
            "Epoch 1/5\n",
            "1500/1500 [==============================] - 4s 3ms/step - loss: 0.5027 - accuracy: 0.8230 - val_loss: 0.3938 - val_accuracy: 0.8597\n",
            "Epoch 2/5\n",
            "1500/1500 [==============================] - 4s 3ms/step - loss: 0.3768 - accuracy: 0.8635 - val_loss: 0.3775 - val_accuracy: 0.8652\n",
            "Epoch 3/5\n",
            "1500/1500 [==============================] - 4s 3ms/step - loss: 0.3359 - accuracy: 0.8784 - val_loss: 0.3747 - val_accuracy: 0.8680\n",
            "Epoch 4/5\n",
            "1500/1500 [==============================] - 4s 3ms/step - loss: 0.3116 - accuracy: 0.8852 - val_loss: 0.3555 - val_accuracy: 0.8759\n",
            "Epoch 5/5\n",
            "1500/1500 [==============================] - 4s 3ms/step - loss: 0.2928 - accuracy: 0.8915 - val_loss: 0.3306 - val_accuracy: 0.8810\n"
          ],
          "name": "stdout"
        }
      ]
    },
    {
      "cell_type": "code",
      "metadata": {
        "id": "5-ZUilRjNvqa",
        "colab_type": "code",
        "colab": {
          "base_uri": "https://localhost:8080/",
          "height": 34
        },
        "outputId": "942fcfd7-2350-4fc2-f772-38d44695e179"
      },
      "source": [
        "historico7"
      ],
      "execution_count": 27,
      "outputs": [
        {
          "output_type": "execute_result",
          "data": {
            "text/plain": [
              "<tensorflow.python.keras.callbacks.History at 0x7f12e8a25668>"
            ]
          },
          "metadata": {
            "tags": []
          },
          "execution_count": 27
        }
      ]
    },
    {
      "cell_type": "code",
      "metadata": {
        "id": "A7apSuhDN0rv",
        "colab_type": "code",
        "colab": {
          "base_uri": "https://localhost:8080/",
          "height": 353
        },
        "outputId": "ef436bd5-db0b-4588-83ad-034b1c02e4d5"
      },
      "source": [
        "historico7.history"
      ],
      "execution_count": 28,
      "outputs": [
        {
          "output_type": "execute_result",
          "data": {
            "text/plain": [
              "{'accuracy': [0.8230000138282776,\n",
              "  0.8634583353996277,\n",
              "  0.8783958554267883,\n",
              "  0.8852291703224182,\n",
              "  0.8915416598320007],\n",
              " 'loss': [0.5026541948318481,\n",
              "  0.37678223848342896,\n",
              "  0.3358750343322754,\n",
              "  0.311593234539032,\n",
              "  0.2927745282649994],\n",
              " 'val_accuracy': [0.859749972820282,\n",
              "  0.8651666641235352,\n",
              "  0.8679999709129333,\n",
              "  0.8759166598320007,\n",
              "  0.8809999823570251],\n",
              " 'val_loss': [0.3937758505344391,\n",
              "  0.3775140643119812,\n",
              "  0.3747345507144928,\n",
              "  0.35554182529449463,\n",
              "  0.3305797874927521]}"
            ]
          },
          "metadata": {
            "tags": []
          },
          "execution_count": 28
        }
      ]
    },
    {
      "cell_type": "code",
      "metadata": {
        "id": "jM8_i1_jN4qG",
        "colab_type": "code",
        "colab": {
          "base_uri": "https://localhost:8080/",
          "height": 101
        },
        "outputId": "96c780eb-ae6f-46e0-afe0-3dd5dfedad4f"
      },
      "source": [
        "historico7.history['accuracy']"
      ],
      "execution_count": 29,
      "outputs": [
        {
          "output_type": "execute_result",
          "data": {
            "text/plain": [
              "[0.8230000138282776,\n",
              " 0.8634583353996277,\n",
              " 0.8783958554267883,\n",
              " 0.8852291703224182,\n",
              " 0.8915416598320007]"
            ]
          },
          "metadata": {
            "tags": []
          },
          "execution_count": 29
        }
      ]
    },
    {
      "cell_type": "code",
      "metadata": {
        "id": "UO5_l1ILN4mj",
        "colab_type": "code",
        "colab": {
          "base_uri": "https://localhost:8080/",
          "height": 282
        },
        "outputId": "0e4a44bd-e412-45e4-c166-4906332bbe9a"
      },
      "source": [
        "plt.plot(historico7.history['accuracy'])"
      ],
      "execution_count": 30,
      "outputs": [
        {
          "output_type": "execute_result",
          "data": {
            "text/plain": [
              "[<matplotlib.lines.Line2D at 0x7f12e79224a8>]"
            ]
          },
          "metadata": {
            "tags": []
          },
          "execution_count": 30
        },
        {
          "output_type": "display_data",
          "data": {
            "image/png": "[encoded data removed]",
            "text/plain": [
              "<Figure size 432x288 with 1 Axes>"
            ]
          },
          "metadata": {
            "tags": [],
            "needs_background": "light"
          }
        }
      ]
    },
    {
      "cell_type": "code",
      "metadata": {
        "id": "mLZxQZAdO3sj",
        "colab_type": "code",
        "colab": {
          "base_uri": "https://localhost:8080/",
          "height": 312
        },
        "outputId": "cc32faa9-8a4b-4f35-838c-a4ff3fec42af"
      },
      "source": [
        "#visualizar a acuracia conforme o treino\n",
        "plt.plot(historico7.history['accuracy'])\n",
        "plt.plot(historico7.history['val_accuracy'])\n",
        "plt.title('acuracia por epoca')\n",
        "plt.xlabel('epocas')\n",
        "plt.ylabel('acuracia')\n",
        "plt.legend(['treino', 'avaliacao'])"
      ],
      "execution_count": 31,
      "outputs": [
        {
          "output_type": "execute_result",
          "data": {
            "text/plain": [
              "<matplotlib.legend.Legend at 0x7f12e613aa58>"
            ]
          },
          "metadata": {
            "tags": []
          },
          "execution_count": 31
        },
        {
          "output_type": "display_data",
          "data": {
            "image/png": "[encoded data removed]",
            "text/plain": [
              "<Figure size 432x288 with 1 Axes>"
            ]
          },
          "metadata": {
            "tags": [],
            "needs_background": "light"
          }
        }
      ]
    },
    {
      "cell_type": "code",
      "metadata": {
        "id": "om-zo0_qN4j9",
        "colab_type": "code",
        "colab": {
          "base_uri": "https://localhost:8080/",
          "height": 312
        },
        "outputId": "8fd26d7c-5b1e-46c7-bac7-0ee12ee669c4"
      },
      "source": [
        "#visualizar a perca conforme o treino\n",
        "plt.plot(historico7.history['loss'])\n",
        "plt.plot(historico7.history['val_loss'])\n",
        "plt.title('perca por epoca')\n",
        "plt.xlabel('epocas')\n",
        "plt.ylabel('perca')\n",
        "plt.legend(['treino', 'validacao'])"
      ],
      "execution_count": 32,
      "outputs": [
        {
          "output_type": "execute_result",
          "data": {
            "text/plain": [
              "<matplotlib.legend.Legend at 0x7f12e7912d68>"
            ]
          },
          "metadata": {
            "tags": []
          },
          "execution_count": 32
        },
        {
          "output_type": "display_data",
          "data": {
            "image/png": "[encoded data removed]",
            "text/plain": [
              "<Figure size 432x288 with 1 Axes>"
            ]
          },
          "metadata": {
            "tags": [],
            "needs_background": "light"
          }
        }
      ]
    },
    {
      "cell_type": "markdown",
      "metadata": {
        "id": "tGouu3wMPd03",
        "colab_type": "text"
      },
      "source": [
        "**underfitting** - nao esta se adequando bem, fazer ajustes no treinamento, na percaquando a validacao esta alta e treino esta baixo"
      ]
    },
    {
      "cell_type": "code",
      "metadata": {
        "id": "JJTlmMz_O4LX",
        "colab_type": "code",
        "colab": {
          "base_uri": "https://localhost:8080/",
          "height": 286
        },
        "outputId": "a8306a96-b0e7-42c5-c9c7-fedeb496d795"
      },
      "source": [
        "#4 camadas 56 > 256 > 10\n",
        "#agora almentar as epocas epochs=10\n",
        "#saber as metricas de accuracy\n",
        "#tbm incluir dados para a validacao de 20%\n",
        "modelo8 = keras.Sequential([\n",
        "                           keras.layers.Flatten(input_shape=(28, 28)),\n",
        "                           keras.layers.Dense(256, activation=tensorflow.nn.relu),\n",
        "                           keras.layers.Dense(10, activation=tensorflow.nn.softmax)\n",
        "                           ])\n",
        "\n",
        "modelo8.compile(optimizer='adam', \n",
        "               loss='sparse_categorical_crossentropy', metrics=['accuracy'])\n",
        "\n",
        "historico8 = modelo8.fit(imagens_treino_normalizado, identificacoes_treino, epochs=8, validation_split=0.2)"
      ],
      "execution_count": 40,
      "outputs": [
        {
          "output_type": "stream",
          "text": [
            "Epoch 1/8\n",
            "1500/1500 [==============================] - 4s 3ms/step - loss: 0.5061 - accuracy: 0.8230 - val_loss: 0.4353 - val_accuracy: 0.8437\n",
            "Epoch 2/8\n",
            "1500/1500 [==============================] - 4s 3ms/step - loss: 0.3764 - accuracy: 0.8637 - val_loss: 0.3811 - val_accuracy: 0.8601\n",
            "Epoch 3/8\n",
            "1500/1500 [==============================] - 4s 3ms/step - loss: 0.3385 - accuracy: 0.8752 - val_loss: 0.3682 - val_accuracy: 0.8685\n",
            "Epoch 4/8\n",
            "1500/1500 [==============================] - 5s 3ms/step - loss: 0.3088 - accuracy: 0.8870 - val_loss: 0.3351 - val_accuracy: 0.8769\n",
            "Epoch 5/8\n",
            "1500/1500 [==============================] - 5s 3ms/step - loss: 0.2908 - accuracy: 0.8928 - val_loss: 0.3335 - val_accuracy: 0.8812\n",
            "Epoch 6/8\n",
            "1500/1500 [==============================] - 4s 3ms/step - loss: 0.2762 - accuracy: 0.8971 - val_loss: 0.3190 - val_accuracy: 0.8872\n",
            "Epoch 7/8\n",
            "1500/1500 [==============================] - 4s 3ms/step - loss: 0.2633 - accuracy: 0.9022 - val_loss: 0.3251 - val_accuracy: 0.8803\n",
            "Epoch 8/8\n",
            "1500/1500 [==============================] - 4s 3ms/step - loss: 0.2494 - accuracy: 0.9072 - val_loss: 0.3293 - val_accuracy: 0.8839\n"
          ],
          "name": "stdout"
        }
      ]
    },
    {
      "cell_type": "code",
      "metadata": {
        "id": "xh4VwA9iO4N5",
        "colab_type": "code",
        "colab": {
          "base_uri": "https://localhost:8080/",
          "height": 312
        },
        "outputId": "d827b013-991b-491e-c28a-73292ac50ce0"
      },
      "source": [
        "fig, axs = plt.subplots(1,2, figsize=(10,4))\n",
        "\n",
        "#visualizar a acuracia conforme o treino\n",
        "axs[0].plot(historico8.history['accuracy'])\n",
        "axs[0].plot(historico8.history['val_accuracy'])\n",
        "axs[0].set_title('acuracia por epoca')\n",
        "axs[0].set_xlabel('epocas')\n",
        "axs[0].set_ylabel('acuracia')\n",
        "axs[0].legend(['treino', 'avaliacao'])\n",
        "\n",
        "#visualizar a perca conforme o treino\n",
        "axs[1].plot(historico8.history['loss'])\n",
        "axs[1].plot(historico8.history['val_loss'])\n",
        "axs[1].set_title('perca por epoca')\n",
        "axs[1].set_xlabel('epocas')\n",
        "axs[1].set_ylabel('perca')\n",
        "axs[1].legend(['treino', 'validacao'])"
      ],
      "execution_count": 41,
      "outputs": [
        {
          "output_type": "execute_result",
          "data": {
            "text/plain": [
              "<matplotlib.legend.Legend at 0x7f12e75f1198>"
            ]
          },
          "metadata": {
            "tags": []
          },
          "execution_count": 41
        },
        {
          "output_type": "display_data",
          "data": {
            "image/png": "[encoded data removed]",
            "text/plain": [
              "<Figure size 720x288 with 2 Axes>"
            ]
          },
          "metadata": {
            "tags": [],
            "needs_background": "light"
          }
        }
      ]
    },
    {
      "cell_type": "markdown",
      "metadata": {
        "id": "d3wr1pk3ThTU",
        "colab_type": "text"
      },
      "source": [
        "**ouverfitting** - siginifica o oposto do undefit, tambem quando o dados de treino e validacao estao oposto. \n",
        "intrepretar o grafico:\n",
        " \n",
        "*   na acuracia - se a linha de treino esta ok e a linha de validacao esta baixando, a rede entende melhor o treino do a validacao, isso é ruim\n",
        "*   na perda - se se o treino esta muito diferente de validacao, isso é ruim\n",
        "\n",
        "\n",
        "\n",
        "Caso o nosso modelo não estivesse entendendo os dados de treino, e a nossa curva de erro de treino estivesse subindo ao invés de descendo, aí sim teríamos um modelo se adequando pouco aos nossos dados, underfitting.\n",
        "\n",
        "\n",
        "Repare na curva de validação na qual o erro aumenta cada vez mais e na curva de treino que ele apenas reduz. Isso indica que nosso modelo está perdendo pouquíssima informação no treino e muita na validação. O que mostra que ele está servindo bem demais o modelo, overfitting.\n",
        " "
      ]
    },
    {
      "cell_type": "code",
      "metadata": {
        "id": "QkFX-cnQQ4Tw",
        "colab_type": "code",
        "colab": {}
      },
      "source": [
        ""
      ],
      "execution_count": 0,
      "outputs": []
    },
    {
      "cell_type": "markdown",
      "metadata": {
        "id": "kzteDD5r8v7j",
        "colab_type": "text"
      },
      "source": [
        "#solução para overfit é normalizar com dropout\n",
        "uma camada para deixar neuronios ardomecido(Dropout) assim tiramos o overfit esse é um tipo de normalizacao"
      ]
    },
    {
      "cell_type": "code",
      "metadata": {
        "id": "UO_qUwNHQ4XP",
        "colab_type": "code",
        "colab": {
          "base_uri": "https://localhost:8080/",
          "height": 205
        },
        "outputId": "f89fe0ca-c9cc-4ded-92ce-d5f4420cd8d6"
      },
      "source": [
        "#5 camadas 56 > 256 > -20% > 10\n",
        "modelo9 = keras.Sequential([\n",
        "                           keras.layers.Flatten(input_shape=(28, 28)),\n",
        "                           keras.layers.Dense(256, activation=tensorflow.nn.relu),\n",
        "                           keras.layers.Dropout(0.2),\n",
        "                           keras.layers.Dense(10, activation=tensorflow.nn.softmax)\n",
        "                           ])\n",
        "\n",
        "modelo9.compile(optimizer='adam', \n",
        "               loss='sparse_categorical_crossentropy', metrics=['accuracy'])\n",
        "\n",
        "historico9 = modelo9.fit(imagens_treino_normalizado, identificacoes_treino, epochs=5, validation_split=0.2)"
      ],
      "execution_count": 44,
      "outputs": [
        {
          "output_type": "stream",
          "text": [
            "Epoch 1/5\n",
            "1500/1500 [==============================] - 4s 3ms/step - loss: 0.5285 - accuracy: 0.8138 - val_loss: 0.3890 - val_accuracy: 0.8612\n",
            "Epoch 2/5\n",
            "1500/1500 [==============================] - 4s 3ms/step - loss: 0.3985 - accuracy: 0.8540 - val_loss: 0.3613 - val_accuracy: 0.8676\n",
            "Epoch 3/5\n",
            "1500/1500 [==============================] - 4s 3ms/step - loss: 0.3639 - accuracy: 0.8660 - val_loss: 0.3648 - val_accuracy: 0.8655\n",
            "Epoch 4/5\n",
            "1500/1500 [==============================] - 4s 3ms/step - loss: 0.3431 - accuracy: 0.8743 - val_loss: 0.3434 - val_accuracy: 0.8754\n",
            "Epoch 5/5\n",
            "1500/1500 [==============================] - 4s 3ms/step - loss: 0.3220 - accuracy: 0.8803 - val_loss: 0.3433 - val_accuracy: 0.8733\n"
          ],
          "name": "stdout"
        }
      ]
    },
    {
      "cell_type": "code",
      "metadata": {
        "id": "zfiG2golQ4Zq",
        "colab_type": "code",
        "colab": {
          "base_uri": "https://localhost:8080/",
          "height": 312
        },
        "outputId": "3ca7d91a-4fad-47db-e262-bc048890a1e0"
      },
      "source": [
        "fig, axs = plt.subplots(1,2, figsize=(10,4))\n",
        "\n",
        "#visualizar a acuracia conforme o treino\n",
        "axs[0].plot(historico9.history['accuracy'])\n",
        "axs[0].plot(historico9.history['val_accuracy'])\n",
        "axs[0].set_title('acuracia por epoca')\n",
        "axs[0].set_xlabel('epocas')\n",
        "axs[0].set_ylabel('acuracia')\n",
        "axs[0].legend(['treino', 'avaliacao'])\n",
        "\n",
        "#visualizar a perca conforme o treino\n",
        "axs[1].plot(historico9.history['loss'])\n",
        "axs[1].plot(historico9.history['val_loss'])\n",
        "axs[1].set_title('perca por epoca')\n",
        "axs[1].set_xlabel('epocas')\n",
        "axs[1].set_ylabel('perca')\n",
        "axs[1].legend(['treino', 'validacao'])"
      ],
      "execution_count": 45,
      "outputs": [
        {
          "output_type": "execute_result",
          "data": {
            "text/plain": [
              "<matplotlib.legend.Legend at 0x7f12e6d17198>"
            ]
          },
          "metadata": {
            "tags": []
          },
          "execution_count": 45
        },
        {
          "output_type": "display_data",
          "data": {
            "image/png": "[encoded data removed]",
            "text/plain": [
              "<Figure size 720x288 with 2 Axes>"
            ]
          },
          "metadata": {
            "tags": [],
            "needs_background": "light"
          }
        }
      ]
    },
    {
      "cell_type": "markdown",
      "metadata": {
        "id": "6wLCPjfNJjrz",
        "colab_type": "text"
      },
      "source": [
        "#salvar o modelo e carregar modelo\n",
        "\n",
        "\n",
        "O que salvas fica dentro do drive, porém somente acessível via API, tem bastante exemplo na net mas esse artigo pode te dar um norte: https://medium.com/@ml_kid/how-to-save-our-model-to-google-drive-and-reuse-it-2c1028058cb2"
      ]
    },
    {
      "cell_type": "code",
      "metadata": {
        "id": "DA9P3RFOQ4ce",
        "colab_type": "code",
        "colab": {}
      },
      "source": [
        "#salvar o modelo com a instencao .h5 quando tem muito dados\n",
        "modelo9.save('modelo.h5')"
      ],
      "execution_count": 0,
      "outputs": []
    },
    {
      "cell_type": "code",
      "metadata": {
        "id": "5SFq8HOeQ4f0",
        "colab_type": "code",
        "colab": {}
      },
      "source": [
        "#carregar o modelo\n",
        "from tensorflow.keras.models import load_model\n",
        "\n",
        "#modelo_carregado = load_model('modelo.h5')\n",
        "#WARNING:tensorflow:Error in loading the saved optimizer state. As a result, your model is starting with a freshly initialized optimizer.\n",
        "\n",
        "modelo_carregado = load_model('modelo.h5', compile=False)"
      ],
      "execution_count": 0,
      "outputs": []
    },
    {
      "cell_type": "code",
      "metadata": {
        "id": "tqxnl1z1AbTJ",
        "colab_type": "code",
        "colab": {
          "base_uri": "https://localhost:8080/",
          "height": 50
        },
        "outputId": "7f51f6e7-b33f-40f9-b486-9b59c10c0226"
      },
      "source": [
        "testes = modelo_carregado.predict(imagens_teste)\n",
        "#retona 10 posicoes\n",
        "testes[0]\n",
        "\n",
        "print(\"teste: \", np.argmax(testes[0]))\n",
        "print(\"real: \", identificacoes_teste[0])"
      ],
      "execution_count": 62,
      "outputs": [
        {
          "output_type": "stream",
          "text": [
            "teste:  9\n",
            "real:  9\n"
          ],
          "name": "stdout"
        }
      ]
    },
    {
      "cell_type": "markdown",
      "metadata": {
        "id": "1xSdxjkEvluc",
        "colab_type": "text"
      },
      "source": [
        "#Para saber mais\n",
        "\n",
        "\n",
        "Para fazer essas transformações, precisamos explorar os dados como fazemos no curso com o pyplot do matplotlib, e usar também uma biblioteca como a scipy do Python que tem um módulo chamado ndimage apenas para lidar com imagens.\n",
        "\n",
        "from scipy import ndimage\n",
        "\n",
        "http://scipy-lectures.org/advanced/image_processing/"
      ]
    }
  ]
}