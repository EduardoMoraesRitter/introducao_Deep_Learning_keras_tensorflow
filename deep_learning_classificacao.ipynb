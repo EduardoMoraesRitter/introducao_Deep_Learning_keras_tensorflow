{
  "nbformat": 4,
  "nbformat_minor": 0,
  "metadata": {
    "colab": {
      "name": "deep_learning_classificacao.ipynb",
      "provenance": [],
      "authorship_tag": "ABX9TyOeHejB4JBzQU8BB9a9UuLH",
      "include_colab_link": true
    },
    "kernelspec": {
      "name": "python3",
      "display_name": "Python 3"
    }
  },
  "cells": [
    {
      "cell_type": "markdown",
      "metadata": {
        "id": "view-in-github",
        "colab_type": "text"
      },
      "source": [
        "<a href=\"https://colab.research.google.com/github/EduardoMoraesRitter/introducao_Deep_Learning_keras_tensorflow/blob/master/deep_learning_classificacao.ipynb\" target=\"_parent\"><img src=\"https://colab.research.google.com/assets/colab-badge.svg\" alt=\"Open In Colab\"/></a>"
      ]
    },
    {
      "cell_type": "markdown",
      "metadata": {
        "id": "Qpdj4IorWG10",
        "colab_type": "text"
      },
      "source": [
        "introdutório de  Deep Learning é uma subcategoria do Machine Learning:\n",
        "\n",
        "*   Deep Learning se baseia em duas coisas: vetores e tensores\n",
        "\n",
        "*   biblioteca do Google especializada em Redes Neurais Profundas chamada TensorFlow, usando API alto nível que está acima do TensorFlow o Keras foi construído em cima de uma outra biblioteca chamada Theano.\n",
        "\n",
        "*   dataset chamado Fashion-MNIST organizado com imagens de várias roupas diferentes. https://github.com/zalandoresearch/fashion-mnist\n",
        "\n",
        "*   visualizar a imagem usando matplotlib.pyplot\n",
        "\n",
        "*   nosso modelo tem 3 camadas\n",
        "\n",
        "    1.   camada 0 que está “achatando” as nossas imagens de 28 por 28 pixels em um array de 784 pixels. array de 2 dimensões e achatando-o para que fique com uma dimensão única usando Flatten\n",
        "\n",
        "    2.   camada 1, A camada dense (densa) é aquela que faz as conexões entre todas as unidades da camada 2 com as unidades da camada 1. TensorFlow  múltiplo de 2\n",
        "\n",
        "\n",
        "\n",
        "\n",
        "\n",
        "\n",
        "A função não linear introduz no modelo a transformação dos dados necessária para identificarmos as diferenças nas imagens que vamos classificar. Nesse caso, escolhemos a função ReLU.\n"
      ]
    },
    {
      "cell_type": "code",
      "metadata": {
        "id": "O3EnH7SAWkUG",
        "colab_type": "code",
        "colab": {}
      },
      "source": [
        "#keras esta dentro do tensorflow\n",
        "import tensorflow\n",
        "from tensorflow import keras"
      ],
      "execution_count": 0,
      "outputs": []
    },
    {
      "cell_type": "code",
      "metadata": {
        "id": "Bvt5YS3_UPsZ",
        "colab_type": "code",
        "colab": {}
      },
      "source": [
        "#pegar o dataset\n",
        "dataset = keras.datasets.fashion_mnist"
      ],
      "execution_count": 0,
      "outputs": []
    },
    {
      "cell_type": "code",
      "metadata": {
        "id": "lxZOxkU6WhLK",
        "colab_type": "code",
        "outputId": "a3d7ba3c-c948-406b-9d2f-d6b3880d6ed8",
        "colab": {
          "base_uri": "https://localhost:8080/",
          "height": 840
        }
      },
      "source": [
        "#carregar dados\n",
        "((imagens_treino, identificacoes_treino), (imagens_teste, identificacoes_teste)) = dataset.load_data()\n",
        "imagens_treino"
      ],
      "execution_count": 3,
      "outputs": [
        {
          "output_type": "execute_result",
          "data": {
            "text/plain": [
              "array([[[0, 0, 0, ..., 0, 0, 0],\n",
              "        [0, 0, 0, ..., 0, 0, 0],\n",
              "        [0, 0, 0, ..., 0, 0, 0],\n",
              "        ...,\n",
              "        [0, 0, 0, ..., 0, 0, 0],\n",
              "        [0, 0, 0, ..., 0, 0, 0],\n",
              "        [0, 0, 0, ..., 0, 0, 0]],\n",
              "\n",
              "       [[0, 0, 0, ..., 0, 0, 0],\n",
              "        [0, 0, 0, ..., 0, 0, 0],\n",
              "        [0, 0, 0, ..., 0, 0, 0],\n",
              "        ...,\n",
              "        [0, 0, 0, ..., 0, 0, 0],\n",
              "        [0, 0, 0, ..., 0, 0, 0],\n",
              "        [0, 0, 0, ..., 0, 0, 0]],\n",
              "\n",
              "       [[0, 0, 0, ..., 0, 0, 0],\n",
              "        [0, 0, 0, ..., 0, 0, 0],\n",
              "        [0, 0, 0, ..., 0, 0, 0],\n",
              "        ...,\n",
              "        [0, 0, 0, ..., 0, 0, 0],\n",
              "        [0, 0, 0, ..., 0, 0, 0],\n",
              "        [0, 0, 0, ..., 0, 0, 0]],\n",
              "\n",
              "       ...,\n",
              "\n",
              "       [[0, 0, 0, ..., 0, 0, 0],\n",
              "        [0, 0, 0, ..., 0, 0, 0],\n",
              "        [0, 0, 0, ..., 0, 0, 0],\n",
              "        ...,\n",
              "        [0, 0, 0, ..., 0, 0, 0],\n",
              "        [0, 0, 0, ..., 0, 0, 0],\n",
              "        [0, 0, 0, ..., 0, 0, 0]],\n",
              "\n",
              "       [[0, 0, 0, ..., 0, 0, 0],\n",
              "        [0, 0, 0, ..., 0, 0, 0],\n",
              "        [0, 0, 0, ..., 0, 0, 0],\n",
              "        ...,\n",
              "        [0, 0, 0, ..., 0, 0, 0],\n",
              "        [0, 0, 0, ..., 0, 0, 0],\n",
              "        [0, 0, 0, ..., 0, 0, 0]],\n",
              "\n",
              "       [[0, 0, 0, ..., 0, 0, 0],\n",
              "        [0, 0, 0, ..., 0, 0, 0],\n",
              "        [0, 0, 0, ..., 0, 0, 0],\n",
              "        ...,\n",
              "        [0, 0, 0, ..., 0, 0, 0],\n",
              "        [0, 0, 0, ..., 0, 0, 0],\n",
              "        [0, 0, 0, ..., 0, 0, 0]]], dtype=uint8)"
            ]
          },
          "metadata": {
            "tags": []
          },
          "execution_count": 3
        }
      ]
    },
    {
      "cell_type": "code",
      "metadata": {
        "id": "yIrwqojTW3OH",
        "colab_type": "code",
        "outputId": "2c7dc5cd-c979-4ce7-cb39-f87d3ce356fd",
        "colab": {
          "base_uri": "https://localhost:8080/",
          "height": 34
        }
      },
      "source": [
        "#imagens de treino\n",
        "len(imagens_treino)"
      ],
      "execution_count": 4,
      "outputs": [
        {
          "output_type": "execute_result",
          "data": {
            "text/plain": [
              "60000"
            ]
          },
          "metadata": {
            "tags": []
          },
          "execution_count": 4
        }
      ]
    },
    {
      "cell_type": "code",
      "metadata": {
        "id": "9idst3jrYkwE",
        "colab_type": "code",
        "outputId": "9f8b145e-f7e6-47e9-f3b2-d2d4080cdcc4",
        "colab": {
          "base_uri": "https://localhost:8080/",
          "height": 34
        }
      },
      "source": [
        "#uma imagem de 28 por 28 as dimencoes\n",
        "imagens_treino.shape"
      ],
      "execution_count": 5,
      "outputs": [
        {
          "output_type": "execute_result",
          "data": {
            "text/plain": [
              "(60000, 28, 28)"
            ]
          },
          "metadata": {
            "tags": []
          },
          "execution_count": 5
        }
      ]
    },
    {
      "cell_type": "code",
      "metadata": {
        "id": "nNq7YqGMYnO-",
        "colab_type": "code",
        "colab": {}
      },
      "source": [
        "#visualizar a imagem\n",
        "import matplotlib.pyplot as plt"
      ],
      "execution_count": 0,
      "outputs": []
    },
    {
      "cell_type": "code",
      "metadata": {
        "id": "HS7pVdPTZEKP",
        "colab_type": "code",
        "outputId": "55ed4bd2-a51a-4574-9cbd-93b79e84d480",
        "colab": {
          "base_uri": "https://localhost:8080/",
          "height": 298
        }
      },
      "source": [
        "plt.imshow(imagens_treino[0])\n",
        "plt.title(identificacoes_treino[0])"
      ],
      "execution_count": 7,
      "outputs": [
        {
          "output_type": "execute_result",
          "data": {
            "text/plain": [
              "Text(0.5, 1.0, '9')"
            ]
          },
          "metadata": {
            "tags": []
          },
          "execution_count": 7
        },
        {
          "output_type": "display_data",
          "data": {
            "image/png": "[encoded data removed]",
            "text/plain": [
              "<Figure size 432x288 with 1 Axes>"
            ]
          },
          "metadata": {
            "tags": [],
            "needs_background": "light"
          }
        }
      ]
    },
    {
      "cell_type": "code",
      "metadata": {
        "id": "mISsriHKZMLX",
        "colab_type": "code",
        "outputId": "0c56d339-cb59-4704-bcfd-b61465dad561",
        "colab": {
          "base_uri": "https://localhost:8080/",
          "height": 34
        }
      },
      "source": [
        "identificacoes_treino"
      ],
      "execution_count": 8,
      "outputs": [
        {
          "output_type": "execute_result",
          "data": {
            "text/plain": [
              "array([9, 0, 0, ..., 3, 0, 5], dtype=uint8)"
            ]
          },
          "metadata": {
            "tags": []
          },
          "execution_count": 8
        }
      ]
    },
    {
      "cell_type": "code",
      "metadata": {
        "id": "gphmSH-ZczDd",
        "colab_type": "code",
        "outputId": "54c01f0a-90a5-4e81-caab-65251c840b58",
        "colab": {
          "base_uri": "https://localhost:8080/",
          "height": 240
        }
      },
      "source": [
        "#loop para mostrar algumas fotos\n",
        "for i in range(10):\n",
        "  #quando colocamos mais de um grafico precisamos colocar um subgrafico, passando 2 linhas e 5 colunas\n",
        "  plt.subplot(2,5,i+1)\n",
        "  plt.imshow(imagens_treino[i])\n",
        "  plt.title(identificacoes_treino[i])"
      ],
      "execution_count": 9,
      "outputs": [
        {
          "output_type": "display_data",
          "data": {
            "image/png": "[encoded data removed]",
            "text/plain": [
              "<Figure size 432x288 with 10 Axes>"
            ]
          },
          "metadata": {
            "tags": [],
            "needs_background": "light"
          }
        }
      ]
    },
    {
      "cell_type": "code",
      "metadata": {
        "id": "IOK7VTURn6g4",
        "colab_type": "code",
        "outputId": "1985f85a-5d86-49ec-9fac-5e987a431ba6",
        "colab": {
          "base_uri": "https://localhost:8080/",
          "height": 185
        }
      },
      "source": [
        "nome_classificacoes = ['camiseta','calsa','pullover','cestido','casaco',\n",
        "                       'sandalia','camisa','tenis','bolsa','bota']\n",
        "nome_classificacoes"
      ],
      "execution_count": 10,
      "outputs": [
        {
          "output_type": "execute_result",
          "data": {
            "text/plain": [
              "['camiseta',\n",
              " 'calsa',\n",
              " 'pullover',\n",
              " 'cestido',\n",
              " 'casaco',\n",
              " 'sandalia',\n",
              " 'camisa',\n",
              " 'tenis',\n",
              " 'bolsa',\n",
              " 'bota']"
            ]
          },
          "metadata": {
            "tags": []
          },
          "execution_count": 10
        }
      ]
    },
    {
      "cell_type": "code",
      "metadata": {
        "id": "qy5p0WuiriIx",
        "colab_type": "code",
        "outputId": "8d6f4c7b-6046-4d4c-c7c4-2a6ff7d3bdee",
        "colab": {
          "base_uri": "https://localhost:8080/",
          "height": 240
        }
      },
      "source": [
        "#loop para mostrar algumas fotos\n",
        "for i in range(10):\n",
        "  #quando colocamos mais de um grafico precisamos colocar um subgrafico, passando 2 linhas e 5 colunas\n",
        "  plt.subplot(2,5,i+1)\n",
        "  plt.imshow(imagens_treino[i])\n",
        "  plt.title(nome_classificacoes[identificacoes_treino[i]])"
      ],
      "execution_count": 11,
      "outputs": [
        {
          "output_type": "display_data",
          "data": {
            "image/png": "[encoded data removed]",
            "text/plain": [
              "<Figure size 432x288 with 10 Axes>"
            ]
          },
          "metadata": {
            "tags": [],
            "needs_background": "light"
          }
        }
      ]
    },
    {
      "cell_type": "markdown",
      "metadata": {
        "id": "rGCjAivXBSj_",
        "colab_type": "text"
      },
      "source": [
        "#Criando o modelo\n",
        "---\n",
        "camadas(layers) da rede neural\n",
        "\n",
        "modelo > entrada > processamento > saida\n",
        "\n",
        "temos  >    56    >       256     >   10  \n",
        "\n",
        "\n",
        "\n",
        "\n"
      ]
    },
    {
      "cell_type": "code",
      "metadata": {
        "id": "bf4zkJYYrkz1",
        "colab_type": "code",
        "colab": {
          "base_uri": "https://localhost:8080/",
          "height": 50
        },
        "outputId": "7ad0da78-4a7f-4079-c746-14bbe5014fab"
      },
      "source": [
        "#camada 0(Flatten) um achatamento transformando imagens de 28x28 pixel em 56 dimencoes\n",
        "#camada 1(Dense) camada profunca, sempre multiplo de 2 para numero de NOS e activation ReLU - funcao nao linear transforma negativo em 0 \n",
        "#camada 2(softmax), Softmax e multicamadas, descreve a \n",
        "modelo1 = keras.Sequential([\n",
        "                           keras.layers.Flatten(input_shape=(28, 28)),\n",
        "                           keras.layers.Dense(256, activation=tensorflow.nn.relu),\n",
        "                           keras.layers.Dense(10, activation=tensorflow.nn.softmax)\n",
        "                           ])\n",
        "\n",
        "#compliar o modelo, passando o otimizado(adam para valizar classes) e percar de informação(Entropia Cruzada Categórica Esparsa)\n",
        "modelo1.compile(optimizer='adam', \n",
        "               loss='sparse_categorical_crossentropy')\n",
        "\n",
        "modelo1.fit(imagens_treino, identificacoes_treino)\n",
        "#saida vemos:\n",
        "#epoch(épocas um ciculo) é quantas vezes passamos por cada uma das imagen;\n",
        "#quantidade de imagens\n",
        "#loss(perca) de 3,5% temos que ter o minimo possivel"
      ],
      "execution_count": 12,
      "outputs": [
        {
          "output_type": "stream",
          "text": [
            "1875/1875 [==============================] - 5s 3ms/step - loss: 3.4833\n"
          ],
          "name": "stdout"
        },
        {
          "output_type": "execute_result",
          "data": {
            "text/plain": [
              "<tensorflow.python.keras.callbacks.History at 0x7fe647c9b0f0>"
            ]
          },
          "metadata": {
            "tags": []
          },
          "execution_count": 12
        }
      ]
    },
    {
      "cell_type": "markdown",
      "metadata": {
        "id": "RGnAvkhTB7xZ",
        "colab_type": "text"
      },
      "source": [
        "graduacao de cores sao as dimencoes 0 a 255. "
      ]
    },
    {
      "cell_type": "markdown",
      "metadata": {
        "id": "1LRvaGvNCiDd",
        "colab_type": "text"
      },
      "source": [
        "#normalizacao\n",
        "\n",
        "transformar as imagens de 0 a 255 para 0 e 1\n",
        "\n",
        "diminuir as variacoes de cores converter para 0 e 1 e esses valores do meio podem ser 0.1, 0.4, 0.6 ..."
      ]
    },
    {
      "cell_type": "code",
      "metadata": {
        "id": "d5tZdvKRBrBD",
        "colab_type": "code",
        "colab": {
          "base_uri": "https://localhost:8080/",
          "height": 298
        },
        "outputId": "114dd299-7096-4b17-fb57-213e57a3dccd"
      },
      "source": [
        "plt.imshow(imagens_treino[3])\n",
        "plt.title(identificacoes_treino[3])\n",
        "plt.colorbar()"
      ],
      "execution_count": 13,
      "outputs": [
        {
          "output_type": "execute_result",
          "data": {
            "text/plain": [
              "<matplotlib.colorbar.Colorbar at 0x7fe644e179b0>"
            ]
          },
          "metadata": {
            "tags": []
          },
          "execution_count": 13
        },
        {
          "output_type": "display_data",
          "data": {
            "image/png": "[encoded data removed]",
            "text/plain": [
              "<Figure size 432x288 with 2 Axes>"
            ]
          },
          "metadata": {
            "tags": [],
            "needs_background": "light"
          }
        }
      ]
    },
    {
      "cell_type": "code",
      "metadata": {
        "id": "IGrlDHSCDJxK",
        "colab_type": "code",
        "colab": {
          "base_uri": "https://localhost:8080/",
          "height": 168
        },
        "outputId": "d6d07244-c24e-476a-bc03-85df788a154c"
      },
      "source": [
        "#normalizar os dados, esse print é da primeira linha so\n",
        "print(\"original: \", imagens_treino[3][0])\n",
        "imagens_treino_normalizado = imagens_treino/float(255)\n",
        "print(\"\\n\\n normalizado: \", imagens_treino_normalizado[3][0])"
      ],
      "execution_count": 14,
      "outputs": [
        {
          "output_type": "stream",
          "text": [
            "original:  [  0   0   0   0   0   0   0   0  33  96 175 156  64  14  54 137 204 194\n",
            " 102   0   0   0   0   0   0   0   0   0]\n",
            "\n",
            "\n",
            " normalizado:  [0.         0.         0.         0.         0.         0.\n",
            " 0.         0.         0.12941176 0.37647059 0.68627451 0.61176471\n",
            " 0.25098039 0.05490196 0.21176471 0.5372549  0.8        0.76078431\n",
            " 0.4        0.         0.         0.         0.         0.\n",
            " 0.         0.         0.         0.        ]\n"
          ],
          "name": "stdout"
        }
      ]
    },
    {
      "cell_type": "code",
      "metadata": {
        "id": "ZPoYcKuDHP8a",
        "colab_type": "code",
        "colab": {
          "base_uri": "https://localhost:8080/",
          "height": 298
        },
        "outputId": "f90d4e7c-7786-445f-edb6-c7daf1bc1e50"
      },
      "source": [
        "#a escala nao muda oq muda é o valor e nao tem perda na imagem\n",
        "plt.imshow(imagens_treino_normalizado[3])\n",
        "plt.title(identificacoes_treino[3])\n",
        "plt.colorbar()"
      ],
      "execution_count": 15,
      "outputs": [
        {
          "output_type": "execute_result",
          "data": {
            "text/plain": [
              "<matplotlib.colorbar.Colorbar at 0x7fe647ba5f28>"
            ]
          },
          "metadata": {
            "tags": []
          },
          "execution_count": 15
        },
        {
          "output_type": "display_data",
          "data": {
            "image/png": "[encoded data removed]",
            "text/plain": [
              "<Figure size 432x288 with 2 Axes>"
            ]
          },
          "metadata": {
            "tags": [],
            "needs_background": "light"
          }
        }
      ]
    },
    {
      "cell_type": "code",
      "metadata": {
        "id": "MQoctgnCBrEX",
        "colab_type": "code",
        "colab": {
          "base_uri": "https://localhost:8080/",
          "height": 50
        },
        "outputId": "e8b955e9-7300-4b8b-dd45-7205e95ccc07"
      },
      "source": [
        "#usando imagens normalizadas\n",
        "#agora com 3 camadas 56 > 256 > 128 > 10\n",
        "modelo2 = keras.Sequential([\n",
        "                           keras.layers.Flatten(input_shape=(28, 28)),\n",
        "                           keras.layers.Dense(256, activation=tensorflow.nn.relu),\n",
        "                           keras.layers.Dense(10, activation=tensorflow.nn.softmax)\n",
        "                           ])\n",
        "\n",
        "modelo2.compile(optimizer='adam', \n",
        "               loss='sparse_categorical_crossentropy')\n",
        "\n",
        "modelo2.fit(imagens_treino_normalizado, identificacoes_treino)"
      ],
      "execution_count": 16,
      "outputs": [
        {
          "output_type": "stream",
          "text": [
            "1875/1875 [==============================] - 5s 2ms/step - loss: 0.4837\n"
          ],
          "name": "stdout"
        },
        {
          "output_type": "execute_result",
          "data": {
            "text/plain": [
              "<tensorflow.python.keras.callbacks.History at 0x7fe64e03ecc0>"
            ]
          },
          "metadata": {
            "tags": []
          },
          "execution_count": 16
        }
      ]
    },
    {
      "cell_type": "markdown",
      "metadata": {
        "id": "Dgs_ajO0EGS5",
        "colab_type": "text"
      },
      "source": [
        "dimunuir a rede com outra camada, camada oculta"
      ]
    },
    {
      "cell_type": "code",
      "metadata": {
        "id": "r_5_k27BEEEn",
        "colab_type": "code",
        "colab": {
          "base_uri": "https://localhost:8080/",
          "height": 50
        },
        "outputId": "2d341c34-e946-45d4-fcf1-2d93265be944"
      },
      "source": [
        "#agora com 4 camadas 56 > 256 > 128 > 10\n",
        "modelo3 = keras.Sequential([\n",
        "                           keras.layers.Flatten(input_shape=(28, 28)),\n",
        "                           keras.layers.Dense(256, activation=tensorflow.nn.relu),\n",
        "                           keras.layers.Dense(128, activation=tensorflow.nn.relu),\n",
        "                           keras.layers.Dense(10, activation=tensorflow.nn.softmax)\n",
        "                           ])\n",
        "\n",
        "modelo3.compile(optimizer='adam', \n",
        "               loss='sparse_categorical_crossentropy')\n",
        "\n",
        "modelo3.fit(imagens_treino_normalizado, identificacoes_treino)\n",
        "#demoro mais por conta da nova camada\n",
        "#teve uma perca a mais"
      ],
      "execution_count": 17,
      "outputs": [
        {
          "output_type": "stream",
          "text": [
            "1875/1875 [==============================] - 5s 3ms/step - loss: 0.4771\n"
          ],
          "name": "stdout"
        },
        {
          "output_type": "execute_result",
          "data": {
            "text/plain": [
              "<tensorflow.python.keras.callbacks.History at 0x7fe64e04f080>"
            ]
          },
          "metadata": {
            "tags": []
          },
          "execution_count": 17
        }
      ]
    },
    {
      "cell_type": "code",
      "metadata": {
        "id": "l4LjpkBHEEIN",
        "colab_type": "code",
        "colab": {
          "base_uri": "https://localhost:8080/",
          "height": 50
        },
        "outputId": "3f954694-e412-467f-999a-91bdc66ae2b5"
      },
      "source": [
        "#agora com 5 camadas 56 > 256 > 128 > 64 > 10\n",
        "modelo4 = keras.Sequential([\n",
        "                           keras.layers.Flatten(input_shape=(28, 28)),\n",
        "                           keras.layers.Dense(256, activation=tensorflow.nn.relu),\n",
        "                           keras.layers.Dense(128, activation=tensorflow.nn.relu),\n",
        "                           keras.layers.Dense(64, activation=tensorflow.nn.relu),\n",
        "                           keras.layers.Dense(10, activation=tensorflow.nn.softmax)\n",
        "                           ])\n",
        "\n",
        "modelo4.compile(optimizer='adam', \n",
        "               loss='sparse_categorical_crossentropy')\n",
        "\n",
        "modelo4.fit(imagens_treino_normalizado, identificacoes_treino)\n",
        "#demoro mais por conta da nova camada\n",
        "#teve uma perca a mais"
      ],
      "execution_count": 18,
      "outputs": [
        {
          "output_type": "stream",
          "text": [
            "1875/1875 [==============================] - 6s 3ms/step - loss: 0.4914\n"
          ],
          "name": "stdout"
        },
        {
          "output_type": "execute_result",
          "data": {
            "text/plain": [
              "<tensorflow.python.keras.callbacks.History at 0x7fe64e27e7f0>"
            ]
          },
          "metadata": {
            "tags": []
          },
          "execution_count": 18
        }
      ]
    },
    {
      "cell_type": "code",
      "metadata": {
        "id": "VWPEi7TxEEB2",
        "colab_type": "code",
        "colab": {
          "base_uri": "https://localhost:8080/",
          "height": 50
        },
        "outputId": "15069852-a32c-43c1-e983-60ab322b80a7"
      },
      "source": [
        "#agora com 4 camadas 56 > 64 > 10\n",
        "modelo5 = keras.Sequential([\n",
        "                           keras.layers.Flatten(input_shape=(28, 28)),\n",
        "                           keras.layers.Dense(64, activation=tensorflow.nn.relu),\n",
        "                           keras.layers.Dense(10, activation=tensorflow.nn.softmax)\n",
        "                           ])\n",
        "\n",
        "modelo5.compile(optimizer='adam', \n",
        "               loss='sparse_categorical_crossentropy')\n",
        "\n",
        "modelo5.fit(imagens_treino_normalizado, identificacoes_treino)"
      ],
      "execution_count": 19,
      "outputs": [
        {
          "output_type": "stream",
          "text": [
            "1875/1875 [==============================] - 3s 2ms/step - loss: 0.5186\n"
          ],
          "name": "stdout"
        },
        {
          "output_type": "execute_result",
          "data": {
            "text/plain": [
              "<tensorflow.python.keras.callbacks.History at 0x7fe64e3230f0>"
            ]
          },
          "metadata": {
            "tags": []
          },
          "execution_count": 19
        }
      ]
    },
    {
      "cell_type": "code",
      "metadata": {
        "id": "U2N0ciYdJUFX",
        "colab_type": "code",
        "colab": {}
      },
      "source": [
        ""
      ],
      "execution_count": 0,
      "outputs": []
    },
    {
      "cell_type": "markdown",
      "metadata": {
        "id": "9ML2zCeXKAIf",
        "colab_type": "text"
      },
      "source": [
        "mudar as epocas e medir a acuracia"
      ]
    },
    {
      "cell_type": "code",
      "metadata": {
        "id": "4JA3Kfn7JUDk",
        "colab_type": "code",
        "colab": {
          "base_uri": "https://localhost:8080/",
          "height": 202
        },
        "outputId": "6e023ce3-3c0b-4a84-933d-059ed8e37d19"
      },
      "source": [
        "#4 camadas 56 > 256 > 10\n",
        "#agora almentar as epocas epochs=5\n",
        "#saber as metricas de accuracy\n",
        "modelo6 = keras.Sequential([\n",
        "                           keras.layers.Flatten(input_shape=(28, 28)),\n",
        "                           keras.layers.Dense(256, activation=tensorflow.nn.relu),\n",
        "                           keras.layers.Dense(10, activation=tensorflow.nn.softmax)\n",
        "                           ])\n",
        "\n",
        "modelo6.compile(optimizer='adam', \n",
        "               loss='sparse_categorical_crossentropy', metrics=['accuracy'])\n",
        "\n",
        "modelo6.fit(imagens_treino_normalizado, identificacoes_treino, epochs=5)"
      ],
      "execution_count": 20,
      "outputs": [
        {
          "output_type": "stream",
          "text": [
            "Epoch 1/5\n",
            "1875/1875 [==============================] - 5s 3ms/step - loss: 0.4817 - accuracy: 0.8290\n",
            "Epoch 2/5\n",
            "1875/1875 [==============================] - 5s 2ms/step - loss: 0.3622 - accuracy: 0.8674\n",
            "Epoch 3/5\n",
            "1875/1875 [==============================] - 5s 3ms/step - loss: 0.3266 - accuracy: 0.8806\n",
            "Epoch 4/5\n",
            "1875/1875 [==============================] - 5s 2ms/step - loss: 0.3009 - accuracy: 0.8893\n",
            "Epoch 5/5\n",
            "1875/1875 [==============================] - 5s 3ms/step - loss: 0.2863 - accuracy: 0.8939\n"
          ],
          "name": "stdout"
        },
        {
          "output_type": "execute_result",
          "data": {
            "text/plain": [
              "<tensorflow.python.keras.callbacks.History at 0x7fe64e362b38>"
            ]
          },
          "metadata": {
            "tags": []
          },
          "execution_count": 20
        }
      ]
    },
    {
      "cell_type": "markdown",
      "metadata": {
        "id": "7cc0SUZ9KpII",
        "colab_type": "text"
      },
      "source": [
        "predicao e testes"
      ]
    },
    {
      "cell_type": "code",
      "metadata": {
        "id": "VAWlbJWmJT_N",
        "colab_type": "code",
        "colab": {
          "base_uri": "https://localhost:8080/",
          "height": 34
        },
        "outputId": "99adba18-1abb-4616-d07a-3e8ef465f71a"
      },
      "source": [
        "testes = modelo6.predict(imagens_teste)\n",
        "#retona 10 posicoes\n",
        "testes[0]"
      ],
      "execution_count": 23,
      "outputs": [
        {
          "output_type": "execute_result",
          "data": {
            "text/plain": [
              "array([0., 0., 0., 0., 0., 0., 0., 0., 0., 1.], dtype=float32)"
            ]
          },
          "metadata": {
            "tags": []
          },
          "execution_count": 23
        }
      ]
    },
    {
      "cell_type": "code",
      "metadata": {
        "id": "q53PW0gYK996",
        "colab_type": "code",
        "colab": {}
      },
      "source": [
        "import numpy as np"
      ],
      "execution_count": 0,
      "outputs": []
    },
    {
      "cell_type": "code",
      "metadata": {
        "id": "AYTYjOwALC0T",
        "colab_type": "code",
        "colab": {
          "base_uri": "https://localhost:8080/",
          "height": 50
        },
        "outputId": "8bcb28c5-8043-41af-ad76-6e655f2eef0e"
      },
      "source": [
        "print(\"teste: \", np.argmax(testes[0]))\n",
        "print(\"real: \", identificacoes_teste[0])"
      ],
      "execution_count": 28,
      "outputs": [
        {
          "output_type": "stream",
          "text": [
            "teste:  9\n",
            "real:  9\n"
          ],
          "name": "stdout"
        }
      ]
    },
    {
      "cell_type": "code",
      "metadata": {
        "id": "efm4uuGzLC5g",
        "colab_type": "code",
        "colab": {
          "base_uri": "https://localhost:8080/",
          "height": 67
        },
        "outputId": "81c185e0-f65f-41bd-9e80-a650e196de09"
      },
      "source": [
        "#funcao de avaliacao\n",
        "perda_teste, acuracia_teste = modelo6.evaluate(imagens_teste, identificacoes_teste)\n",
        "print('acuracia: ', acuracia_teste)\n",
        "print('perda: ', perda_teste)"
      ],
      "execution_count": 33,
      "outputs": [
        {
          "output_type": "stream",
          "text": [
            "313/313 [==============================] - 0s 2ms/step - loss: 57.3529 - accuracy: 0.8647\n",
            "acuracia:  0.8647000193595886\n",
            "perda:  57.3529167175293\n"
          ],
          "name": "stdout"
        }
      ]
    },
    {
      "cell_type": "code",
      "metadata": {
        "id": "rDc2IB_yLvPL",
        "colab_type": "code",
        "colab": {
          "base_uri": "https://localhost:8080/",
          "height": 67
        },
        "outputId": "681f699b-1891-4faf-ef50-06ffa73536aa"
      },
      "source": [
        "#converter as imagens tbm?\n",
        "imagens_teste_normalizado = imagens_teste/float(255)\n",
        "\n",
        "#funcao de avaliacao\n",
        "perda_teste, acuracia_teste = modelo6.evaluate(imagens_teste_normalizado, identificacoes_teste)\n",
        "print('acuracia: ', acuracia_teste)\n",
        "print('perda: ', perda_teste)"
      ],
      "execution_count": 34,
      "outputs": [
        {
          "output_type": "stream",
          "text": [
            "313/313 [==============================] - 0s 2ms/step - loss: 0.3389 - accuracy: 0.8812\n",
            "acuracia:  0.8812000155448914\n",
            "perda:  0.33887508511543274\n"
          ],
          "name": "stdout"
        }
      ]
    },
    {
      "cell_type": "markdown",
      "metadata": {
        "id": "tLGACbAnNkwN",
        "colab_type": "text"
      },
      "source": [
        "#separar dados para validacao e visulizar"
      ]
    },
    {
      "cell_type": "code",
      "metadata": {
        "id": "vbP2HEI1LvRq",
        "colab_type": "code",
        "colab": {
          "base_uri": "https://localhost:8080/",
          "height": 185
        },
        "outputId": "e3a714e7-c6c8-487e-d3d8-223840262352"
      },
      "source": [
        "#4 camadas 56 > 256 > 10\n",
        "#agora almentar as epocas epochs=5\n",
        "#saber as metricas de accuracy\n",
        "#tbm incluir dados para a validacao de 20%\n",
        "modelo7 = keras.Sequential([\n",
        "                           keras.layers.Flatten(input_shape=(28, 28)),\n",
        "                           keras.layers.Dense(256, activation=tensorflow.nn.relu),\n",
        "                           keras.layers.Dense(10, activation=tensorflow.nn.softmax)\n",
        "                           ])\n",
        "\n",
        "modelo7.compile(optimizer='adam', \n",
        "               loss='sparse_categorical_crossentropy', metrics=['accuracy'])\n",
        "\n",
        "historico7 = modelo7.fit(imagens_treino_normalizado, identificacoes_treino, epochs=5, validation_split=0.2)"
      ],
      "execution_count": 38,
      "outputs": [
        {
          "output_type": "stream",
          "text": [
            "Epoch 1/5\n",
            "1500/1500 [==============================] - 5s 3ms/step - loss: 0.5054 - accuracy: 0.8225 - val_loss: 0.3897 - val_accuracy: 0.8607\n",
            "Epoch 2/5\n",
            "1500/1500 [==============================] - 4s 3ms/step - loss: 0.3740 - accuracy: 0.8649 - val_loss: 0.3839 - val_accuracy: 0.8547\n",
            "Epoch 3/5\n",
            "1500/1500 [==============================] - 4s 3ms/step - loss: 0.3381 - accuracy: 0.8766 - val_loss: 0.3703 - val_accuracy: 0.8653\n",
            "Epoch 4/5\n",
            "1500/1500 [==============================] - 4s 3ms/step - loss: 0.3108 - accuracy: 0.8857 - val_loss: 0.3333 - val_accuracy: 0.8810\n",
            "Epoch 5/5\n",
            "1500/1500 [==============================] - 4s 3ms/step - loss: 0.2924 - accuracy: 0.8916 - val_loss: 0.3512 - val_accuracy: 0.8707\n"
          ],
          "name": "stdout"
        }
      ]
    },
    {
      "cell_type": "code",
      "metadata": {
        "id": "5-ZUilRjNvqa",
        "colab_type": "code",
        "colab": {
          "base_uri": "https://localhost:8080/",
          "height": 34
        },
        "outputId": "63efb76f-1df7-4617-f75e-406624e264f4"
      },
      "source": [
        "historico7"
      ],
      "execution_count": 39,
      "outputs": [
        {
          "output_type": "execute_result",
          "data": {
            "text/plain": [
              "<tensorflow.python.keras.callbacks.History at 0x7fe64092b400>"
            ]
          },
          "metadata": {
            "tags": []
          },
          "execution_count": 39
        }
      ]
    },
    {
      "cell_type": "code",
      "metadata": {
        "id": "A7apSuhDN0rv",
        "colab_type": "code",
        "colab": {
          "base_uri": "https://localhost:8080/",
          "height": 353
        },
        "outputId": "93cd24cf-53ef-43fb-b9cd-a39cb442d79a"
      },
      "source": [
        "historico7.history"
      ],
      "execution_count": 40,
      "outputs": [
        {
          "output_type": "execute_result",
          "data": {
            "text/plain": [
              "{'accuracy': [0.8225208520889282,\n",
              "  0.8648958206176758,\n",
              "  0.8765624761581421,\n",
              "  0.8856666684150696,\n",
              "  0.8915833234786987],\n",
              " 'loss': [0.505449116230011,\n",
              "  0.37395069003105164,\n",
              "  0.3380587697029114,\n",
              "  0.31083399057388306,\n",
              "  0.2924095392227173],\n",
              " 'val_accuracy': [0.8606666922569275,\n",
              "  0.8547499775886536,\n",
              "  0.8653333187103271,\n",
              "  0.8809999823570251,\n",
              "  0.8706666827201843],\n",
              " 'val_loss': [0.38974419236183167,\n",
              "  0.38386690616607666,\n",
              "  0.37030306458473206,\n",
              "  0.33328476548194885,\n",
              "  0.3512156903743744]}"
            ]
          },
          "metadata": {
            "tags": []
          },
          "execution_count": 40
        }
      ]
    },
    {
      "cell_type": "code",
      "metadata": {
        "id": "jM8_i1_jN4qG",
        "colab_type": "code",
        "colab": {
          "base_uri": "https://localhost:8080/",
          "height": 101
        },
        "outputId": "9bde085e-09dc-43f8-9f38-d598978f453d"
      },
      "source": [
        "historico7.history['accuracy']"
      ],
      "execution_count": 42,
      "outputs": [
        {
          "output_type": "execute_result",
          "data": {
            "text/plain": [
              "[0.8225208520889282,\n",
              " 0.8648958206176758,\n",
              " 0.8765624761581421,\n",
              " 0.8856666684150696,\n",
              " 0.8915833234786987]"
            ]
          },
          "metadata": {
            "tags": []
          },
          "execution_count": 42
        }
      ]
    },
    {
      "cell_type": "code",
      "metadata": {
        "id": "UO5_l1ILN4mj",
        "colab_type": "code",
        "colab": {
          "base_uri": "https://localhost:8080/",
          "height": 282
        },
        "outputId": "e406e2ba-180b-4b9e-8294-6bb611975010"
      },
      "source": [
        "plt.plot(historico7.history['accuracy'])"
      ],
      "execution_count": 43,
      "outputs": [
        {
          "output_type": "execute_result",
          "data": {
            "text/plain": [
              "[<matplotlib.lines.Line2D at 0x7fe63ec825c0>]"
            ]
          },
          "metadata": {
            "tags": []
          },
          "execution_count": 43
        },
        {
          "output_type": "display_data",
          "data": {
            "image/png": "[encoded data removed]",
            "text/plain": [
              "<Figure size 432x288 with 1 Axes>"
            ]
          },
          "metadata": {
            "tags": [],
            "needs_background": "light"
          }
        }
      ]
    },
    {
      "cell_type": "code",
      "metadata": {
        "id": "mLZxQZAdO3sj",
        "colab_type": "code",
        "colab": {
          "base_uri": "https://localhost:8080/",
          "height": 312
        },
        "outputId": "a9a10c34-64a5-4a65-b356-538f0bd6138e"
      },
      "source": [
        "#visualizar a acuracia conforme o treino\n",
        "plt.plot(historico7.history['accuracy'])\n",
        "plt.plot(historico7.history['val_accuracy'])\n",
        "plt.title('acuracia por epoca')\n",
        "plt.xlabel('epocas')\n",
        "plt.ylabel('acuracia')\n",
        "plt.legend(['treino', 'avaliacao'])"
      ],
      "execution_count": 51,
      "outputs": [
        {
          "output_type": "execute_result",
          "data": {
            "text/plain": [
              "<matplotlib.legend.Legend at 0x7fe64e195080>"
            ]
          },
          "metadata": {
            "tags": []
          },
          "execution_count": 51
        },
        {
          "output_type": "display_data",
          "data": {
            "image/png": "[encoded data removed]",
            "text/plain": [
              "<Figure size 432x288 with 1 Axes>"
            ]
          },
          "metadata": {
            "tags": [],
            "needs_background": "light"
          }
        }
      ]
    },
    {
      "cell_type": "code",
      "metadata": {
        "id": "om-zo0_qN4j9",
        "colab_type": "code",
        "colab": {
          "base_uri": "https://localhost:8080/",
          "height": 312
        },
        "outputId": "c36350fe-8d53-495e-ccce-57a9eba3c20b"
      },
      "source": [
        "#visualizar a perca conforme o treino\n",
        "plt.plot(historico7.history['loss'])\n",
        "plt.plot(historico7.history['val_loss'])\n",
        "plt.title('perca por epoca')\n",
        "plt.xlabel('epocas')\n",
        "plt.ylabel('perca')\n",
        "plt.legend(['treino', 'validacao'])"
      ],
      "execution_count": 50,
      "outputs": [
        {
          "output_type": "execute_result",
          "data": {
            "text/plain": [
              "<matplotlib.legend.Legend at 0x7fe63ea547f0>"
            ]
          },
          "metadata": {
            "tags": []
          },
          "execution_count": 50
        },
        {
          "output_type": "display_data",
          "data": {
            "image/png": "[encoded data removed]",
            "text/plain": [
              "<Figure size 432x288 with 1 Axes>"
            ]
          },
          "metadata": {
            "tags": [],
            "needs_background": "light"
          }
        }
      ]
    },
    {
      "cell_type": "markdown",
      "metadata": {
        "id": "tGouu3wMPd03",
        "colab_type": "text"
      },
      "source": [
        "**underfitting** - nao esta se adequando bem, fazer ajustes no treinamento, na percaquando a validacao esta alta e treino esta baixo"
      ]
    },
    {
      "cell_type": "code",
      "metadata": {
        "id": "JJTlmMz_O4LX",
        "colab_type": "code",
        "colab": {
          "base_uri": "https://localhost:8080/",
          "height": 353
        },
        "outputId": "7b00d553-6f03-4828-82b3-37d7cac383ad"
      },
      "source": [
        "#4 camadas 56 > 256 > 10\n",
        "#agora almentar as epocas epochs=10\n",
        "#saber as metricas de accuracy\n",
        "#tbm incluir dados para a validacao de 20%\n",
        "modelo8 = keras.Sequential([\n",
        "                           keras.layers.Flatten(input_shape=(28, 28)),\n",
        "                           keras.layers.Dense(256, activation=tensorflow.nn.relu),\n",
        "                           keras.layers.Dense(10, activation=tensorflow.nn.softmax)\n",
        "                           ])\n",
        "\n",
        "modelo8.compile(optimizer='adam', \n",
        "               loss='sparse_categorical_crossentropy', metrics=['accuracy'])\n",
        "\n",
        "historico8 = modelo7.fit(imagens_treino_normalizado, identificacoes_treino, epochs=10, validation_split=0.2)"
      ],
      "execution_count": 52,
      "outputs": [
        {
          "output_type": "stream",
          "text": [
            "Epoch 1/10\n",
            "1500/1500 [==============================] - 4s 3ms/step - loss: 0.2770 - accuracy: 0.8974 - val_loss: 0.3194 - val_accuracy: 0.8833\n",
            "Epoch 2/10\n",
            "1500/1500 [==============================] - 4s 3ms/step - loss: 0.2603 - accuracy: 0.9038 - val_loss: 0.3333 - val_accuracy: 0.8784\n",
            "Epoch 3/10\n",
            "1500/1500 [==============================] - 4s 3ms/step - loss: 0.2489 - accuracy: 0.9064 - val_loss: 0.3081 - val_accuracy: 0.8911\n",
            "Epoch 4/10\n",
            "1500/1500 [==============================] - 4s 3ms/step - loss: 0.2386 - accuracy: 0.9108 - val_loss: 0.3135 - val_accuracy: 0.8935\n",
            "Epoch 5/10\n",
            "1500/1500 [==============================] - 4s 3ms/step - loss: 0.2268 - accuracy: 0.9141 - val_loss: 0.3219 - val_accuracy: 0.8880\n",
            "Epoch 6/10\n",
            "1500/1500 [==============================] - 4s 3ms/step - loss: 0.2199 - accuracy: 0.9162 - val_loss: 0.3328 - val_accuracy: 0.8873\n",
            "Epoch 7/10\n",
            "1500/1500 [==============================] - 4s 3ms/step - loss: 0.2109 - accuracy: 0.9197 - val_loss: 0.3452 - val_accuracy: 0.8805\n",
            "Epoch 8/10\n",
            "1500/1500 [==============================] - 4s 3ms/step - loss: 0.2035 - accuracy: 0.9240 - val_loss: 0.3206 - val_accuracy: 0.8927\n",
            "Epoch 9/10\n",
            "1500/1500 [==============================] - 4s 3ms/step - loss: 0.1970 - accuracy: 0.9255 - val_loss: 0.3156 - val_accuracy: 0.8934\n",
            "Epoch 10/10\n",
            "1500/1500 [==============================] - 4s 3ms/step - loss: 0.1897 - accuracy: 0.9292 - val_loss: 0.3197 - val_accuracy: 0.8953\n"
          ],
          "name": "stdout"
        }
      ]
    },
    {
      "cell_type": "code",
      "metadata": {
        "id": "xh4VwA9iO4N5",
        "colab_type": "code",
        "colab": {
          "base_uri": "https://localhost:8080/",
          "height": 312
        },
        "outputId": "aab70485-bbfa-40bf-dc7a-22cba654bc9c"
      },
      "source": [
        "fig, axs = plt.subplots(1,2, figsize=(10,4))\n",
        "\n",
        "#visualizar a acuracia conforme o treino\n",
        "axs[0].plot(historico8.history['accuracy'])\n",
        "axs[0].plot(historico8.history['val_accuracy'])\n",
        "axs[0].set_title('acuracia por epoca')\n",
        "axs[0].set_xlabel('epocas')\n",
        "axs[0].set_ylabel('acuracia')\n",
        "axs[0].legend(['treino', 'avaliacao'])\n",
        "\n",
        "#visualizar a perca conforme o treino\n",
        "axs[1].plot(historico8.history['loss'])\n",
        "axs[1].plot(historico8.history['val_loss'])\n",
        "axs[1].set_title('perca por epoca')\n",
        "axs[1].set_xlabel('epocas')\n",
        "axs[1].set_ylabel('perca')\n",
        "axs[1].legend(['treino', 'validacao'])"
      ],
      "execution_count": 77,
      "outputs": [
        {
          "output_type": "execute_result",
          "data": {
            "text/plain": [
              "<matplotlib.legend.Legend at 0x7fe63cb3f2e8>"
            ]
          },
          "metadata": {
            "tags": []
          },
          "execution_count": 77
        },
        {
          "output_type": "display_data",
          "data": {
            "image/png": "[encoded data removed]",
            "text/plain": [
              "<Figure size 720x288 with 2 Axes>"
            ]
          },
          "metadata": {
            "tags": [],
            "needs_background": "light"
          }
        }
      ]
    },
    {
      "cell_type": "markdown",
      "metadata": {
        "id": "d3wr1pk3ThTU",
        "colab_type": "text"
      },
      "source": [
        "**ouverfitting** - siginifica o oposto do undefit, tambem quando o dados de treino e validacao estao oposto. \n",
        "intrepretar o grafico:\n",
        " \n",
        "*   na acuracia - se a linha de treino esta ok e a linha de validacao esta baixando, a rede entende melhor o treino do a validacao, isso é ruim\n",
        "*   na perda - se se o treino esta muito diferente de validacao, isso é ruim\n",
        "\n",
        "\n",
        "\n",
        "Caso o nosso modelo não estivesse entendendo os dados de treino, e a nossa curva de erro de treino estivesse subindo ao invés de descendo, aí sim teríamos um modelo se adequando pouco aos nossos dados, underfitting.\n",
        "\n",
        "\n",
        "Repare na curva de validação na qual o erro aumenta cada vez mais e na curva de treino que ele apenas reduz. Isso indica que nosso modelo está perdendo pouquíssima informação no treino e muita na validação. O que mostra que ele está servindo bem demais o modelo, overfitting.\n",
        " "
      ]
    },
    {
      "cell_type": "code",
      "metadata": {
        "id": "QkFX-cnQQ4Tw",
        "colab_type": "code",
        "colab": {}
      },
      "source": [
        ""
      ],
      "execution_count": 0,
      "outputs": []
    },
    {
      "cell_type": "code",
      "metadata": {
        "id": "UO_qUwNHQ4XP",
        "colab_type": "code",
        "colab": {}
      },
      "source": [
        ""
      ],
      "execution_count": 0,
      "outputs": []
    },
    {
      "cell_type": "code",
      "metadata": {
        "id": "zfiG2golQ4Zq",
        "colab_type": "code",
        "colab": {}
      },
      "source": [
        ""
      ],
      "execution_count": 0,
      "outputs": []
    },
    {
      "cell_type": "code",
      "metadata": {
        "id": "DA9P3RFOQ4ce",
        "colab_type": "code",
        "colab": {}
      },
      "source": [
        ""
      ],
      "execution_count": 0,
      "outputs": []
    },
    {
      "cell_type": "code",
      "metadata": {
        "id": "5SFq8HOeQ4f0",
        "colab_type": "code",
        "colab": {}
      },
      "source": [
        ""
      ],
      "execution_count": 0,
      "outputs": []
    },
    {
      "cell_type": "code",
      "metadata": {
        "id": "DRhX19RQO4Q6",
        "colab_type": "code",
        "colab": {}
      },
      "source": [
        ""
      ],
      "execution_count": 0,
      "outputs": []
    },
    {
      "cell_type": "code",
      "metadata": {
        "id": "2ThbDBkOLvVE",
        "colab_type": "code",
        "colab": {
          "base_uri": "https://localhost:8080/",
          "height": 67
        },
        "outputId": "4a6d3dac-b0bc-4d82-c209-456ea7064b9d"
      },
      "source": [
        "#converter as imagens tbm?\n",
        "imagens_teste_normalizado = imagens_teste/float(255)\n",
        "\n",
        "#funcao de avaliacao\n",
        "perda_teste, acuracia_teste = modelo7.evaluate(imagens_teste_normalizado, identificacoes_teste)\n",
        "print('acuracia: ', acuracia_teste)\n",
        "print('perda: ', perda_teste)"
      ],
      "execution_count": 37,
      "outputs": [
        {
          "output_type": "stream",
          "text": [
            "313/313 [==============================] - 0s 2ms/step - loss: 0.3657 - accuracy: 0.8646\n",
            "acuracia:  0.8646000027656555\n",
            "perda:  0.36572879552841187\n"
          ],
          "name": "stdout"
        }
      ]
    },
    {
      "cell_type": "code",
      "metadata": {
        "id": "Uup9uDBZN3fx",
        "colab_type": "code",
        "colab": {}
      },
      "source": [
        ""
      ],
      "execution_count": 0,
      "outputs": []
    },
    {
      "cell_type": "code",
      "metadata": {
        "id": "IeE-O-PoLvLn",
        "colab_type": "code",
        "colab": {}
      },
      "source": [
        ""
      ],
      "execution_count": 0,
      "outputs": []
    },
    {
      "cell_type": "code",
      "metadata": {
        "id": "nd0ZAywfLC94",
        "colab_type": "code",
        "colab": {}
      },
      "source": [
        ""
      ],
      "execution_count": 0,
      "outputs": []
    },
    {
      "cell_type": "markdown",
      "metadata": {
        "id": "1xSdxjkEvluc",
        "colab_type": "text"
      },
      "source": [
        "#Para saber mais\n",
        "\n",
        "\n",
        "Para fazer essas transformações, precisamos explorar os dados como fazemos no curso com o pyplot do matplotlib, e usar também uma biblioteca como a scipy do Python que tem um módulo chamado ndimage apenas para lidar com imagens.\n",
        "\n",
        "from scipy import ndimage\n",
        "\n",
        "http://scipy-lectures.org/advanced/image_processing/"
      ]
    }
  ]
}