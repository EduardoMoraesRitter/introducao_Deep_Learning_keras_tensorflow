{
  "nbformat": 4,
  "nbformat_minor": 0,
  "metadata": {
    "colab": {
      "name": "deep_learning_classificacao.ipynb",
      "provenance": [],
      "authorship_tag": "ABX9TyO1hmuNIyGEcqi9mcE6P3ac",
      "include_colab_link": true
    },
    "kernelspec": {
      "name": "python3",
      "display_name": "Python 3"
    }
  },
  "cells": [
    {
      "cell_type": "markdown",
      "metadata": {
        "id": "view-in-github",
        "colab_type": "text"
      },
      "source": [
        "<a href=\"https://colab.research.google.com/github/EduardoMoraesRitter/introducao_Deep_Learning_keras_tensorflow/blob/master/deep_learning_classificacao.ipynb\" target=\"_parent\"><img src=\"https://colab.research.google.com/assets/colab-badge.svg\" alt=\"Open In Colab\"/></a>"
      ]
    },
    {
      "cell_type": "markdown",
      "metadata": {
        "id": "Qpdj4IorWG10",
        "colab_type": "text"
      },
      "source": [
        "introdutório de  Deep Learning é uma subcategoria do Machine Learning:\n",
        "\n",
        "*   Deep Learning se baseia em duas coisas: vetores e tensores\n",
        "\n",
        "*   biblioteca do Google especializada em Redes Neurais Profundas chamada TensorFlow, usando API alto nível que está acima do TensorFlow o Keras foi construído em cima de uma outra biblioteca chamada Theano.\n",
        "\n",
        "*   dataset chamado Fashion-MNIST organizado com imagens de várias roupas diferentes. https://github.com/zalandoresearch/fashion-mnist\n",
        "\n",
        "*   visualizar a imagem usando matplotlib.pyplot\n",
        "\n",
        "*   nosso modelo tem 3 camadas\n",
        "\n",
        "    1.   camada 0 que está “achatando” as nossas imagens de 28 por 28 pixels em um array de 784 pixels. array de 2 dimensões e achatando-o para que fique com uma dimensão única usando Flatten\n",
        "\n",
        "    2.   camada 1, A camada dense (densa) é aquela que faz as conexões entre todas as unidades da camada 2 com as unidades da camada 1. TensorFlow  múltiplo de 2\n",
        "\n",
        "\n",
        "\n",
        "\n",
        "\n",
        "\n",
        "A função não linear introduz no modelo a transformação dos dados necessária para identificarmos as diferenças nas imagens que vamos classificar. Nesse caso, escolhemos a função ReLU.\n"
      ]
    },
    {
      "cell_type": "code",
      "metadata": {
        "id": "O3EnH7SAWkUG",
        "colab_type": "code",
        "colab": {}
      },
      "source": [
        "#keras esta dentro do tensorflow\n",
        "import tensorflow\n",
        "from tensorflow import keras"
      ],
      "execution_count": 0,
      "outputs": []
    },
    {
      "cell_type": "code",
      "metadata": {
        "id": "Bvt5YS3_UPsZ",
        "colab_type": "code",
        "colab": {}
      },
      "source": [
        "#pegar o dataset\n",
        "dataset = keras.datasets.fashion_mnist"
      ],
      "execution_count": 0,
      "outputs": []
    },
    {
      "cell_type": "code",
      "metadata": {
        "id": "lxZOxkU6WhLK",
        "colab_type": "code",
        "outputId": "213c82d1-fb64-41e6-fcbf-7cc545c2ba8f",
        "colab": {
          "base_uri": "https://localhost:8080/",
          "height": 840
        }
      },
      "source": [
        "#carregar dados\n",
        "((imagens_treino, identificacoes_treino), (imagens_teste, identificacoes_teste)) = dataset.load_data()\n",
        "imagens_treino"
      ],
      "execution_count": 3,
      "outputs": [
        {
          "output_type": "execute_result",
          "data": {
            "text/plain": [
              "array([[[0, 0, 0, ..., 0, 0, 0],\n",
              "        [0, 0, 0, ..., 0, 0, 0],\n",
              "        [0, 0, 0, ..., 0, 0, 0],\n",
              "        ...,\n",
              "        [0, 0, 0, ..., 0, 0, 0],\n",
              "        [0, 0, 0, ..., 0, 0, 0],\n",
              "        [0, 0, 0, ..., 0, 0, 0]],\n",
              "\n",
              "       [[0, 0, 0, ..., 0, 0, 0],\n",
              "        [0, 0, 0, ..., 0, 0, 0],\n",
              "        [0, 0, 0, ..., 0, 0, 0],\n",
              "        ...,\n",
              "        [0, 0, 0, ..., 0, 0, 0],\n",
              "        [0, 0, 0, ..., 0, 0, 0],\n",
              "        [0, 0, 0, ..., 0, 0, 0]],\n",
              "\n",
              "       [[0, 0, 0, ..., 0, 0, 0],\n",
              "        [0, 0, 0, ..., 0, 0, 0],\n",
              "        [0, 0, 0, ..., 0, 0, 0],\n",
              "        ...,\n",
              "        [0, 0, 0, ..., 0, 0, 0],\n",
              "        [0, 0, 0, ..., 0, 0, 0],\n",
              "        [0, 0, 0, ..., 0, 0, 0]],\n",
              "\n",
              "       ...,\n",
              "\n",
              "       [[0, 0, 0, ..., 0, 0, 0],\n",
              "        [0, 0, 0, ..., 0, 0, 0],\n",
              "        [0, 0, 0, ..., 0, 0, 0],\n",
              "        ...,\n",
              "        [0, 0, 0, ..., 0, 0, 0],\n",
              "        [0, 0, 0, ..., 0, 0, 0],\n",
              "        [0, 0, 0, ..., 0, 0, 0]],\n",
              "\n",
              "       [[0, 0, 0, ..., 0, 0, 0],\n",
              "        [0, 0, 0, ..., 0, 0, 0],\n",
              "        [0, 0, 0, ..., 0, 0, 0],\n",
              "        ...,\n",
              "        [0, 0, 0, ..., 0, 0, 0],\n",
              "        [0, 0, 0, ..., 0, 0, 0],\n",
              "        [0, 0, 0, ..., 0, 0, 0]],\n",
              "\n",
              "       [[0, 0, 0, ..., 0, 0, 0],\n",
              "        [0, 0, 0, ..., 0, 0, 0],\n",
              "        [0, 0, 0, ..., 0, 0, 0],\n",
              "        ...,\n",
              "        [0, 0, 0, ..., 0, 0, 0],\n",
              "        [0, 0, 0, ..., 0, 0, 0],\n",
              "        [0, 0, 0, ..., 0, 0, 0]]], dtype=uint8)"
            ]
          },
          "metadata": {
            "tags": []
          },
          "execution_count": 3
        }
      ]
    },
    {
      "cell_type": "code",
      "metadata": {
        "id": "yIrwqojTW3OH",
        "colab_type": "code",
        "outputId": "78d7347e-2a46-49c7-b6ff-8d4d1c9e44b0",
        "colab": {
          "base_uri": "https://localhost:8080/",
          "height": 34
        }
      },
      "source": [
        "#imagens de treino\n",
        "len(imagens_treino)"
      ],
      "execution_count": 4,
      "outputs": [
        {
          "output_type": "execute_result",
          "data": {
            "text/plain": [
              "60000"
            ]
          },
          "metadata": {
            "tags": []
          },
          "execution_count": 4
        }
      ]
    },
    {
      "cell_type": "code",
      "metadata": {
        "id": "9idst3jrYkwE",
        "colab_type": "code",
        "outputId": "b5f5c0db-d32c-4cfc-bf54-943380359661",
        "colab": {
          "base_uri": "https://localhost:8080/",
          "height": 34
        }
      },
      "source": [
        "#uma imagem de 28 por 28 as dimencoes\n",
        "imagens_treino.shape"
      ],
      "execution_count": 5,
      "outputs": [
        {
          "output_type": "execute_result",
          "data": {
            "text/plain": [
              "(60000, 28, 28)"
            ]
          },
          "metadata": {
            "tags": []
          },
          "execution_count": 5
        }
      ]
    },
    {
      "cell_type": "code",
      "metadata": {
        "id": "nNq7YqGMYnO-",
        "colab_type": "code",
        "colab": {}
      },
      "source": [
        "#visualizar a imagem\n",
        "import matplotlib.pyplot as plt"
      ],
      "execution_count": 0,
      "outputs": []
    },
    {
      "cell_type": "code",
      "metadata": {
        "id": "HS7pVdPTZEKP",
        "colab_type": "code",
        "outputId": "6ba9c987-9cc6-4496-fe59-68d4cba412a4",
        "colab": {
          "base_uri": "https://localhost:8080/",
          "height": 298
        }
      },
      "source": [
        "plt.imshow(imagens_treino[0])\n",
        "plt.title(identificacoes_treino[0])"
      ],
      "execution_count": 7,
      "outputs": [
        {
          "output_type": "execute_result",
          "data": {
            "text/plain": [
              "Text(0.5, 1.0, '9')"
            ]
          },
          "metadata": {
            "tags": []
          },
          "execution_count": 7
        },
        {
          "output_type": "display_data",
          "data": {
            "image/png": "[encoded data removed]",
            "text/plain": [
              "<Figure size 432x288 with 1 Axes>"
            ]
          },
          "metadata": {
            "tags": [],
            "needs_background": "light"
          }
        }
      ]
    },
    {
      "cell_type": "code",
      "metadata": {
        "id": "mISsriHKZMLX",
        "colab_type": "code",
        "outputId": "55855c81-85c1-4e16-cbe4-d0ef5648432e",
        "colab": {
          "base_uri": "https://localhost:8080/",
          "height": 34
        }
      },
      "source": [
        "identificacoes_treino"
      ],
      "execution_count": 8,
      "outputs": [
        {
          "output_type": "execute_result",
          "data": {
            "text/plain": [
              "array([9, 0, 0, ..., 3, 0, 5], dtype=uint8)"
            ]
          },
          "metadata": {
            "tags": []
          },
          "execution_count": 8
        }
      ]
    },
    {
      "cell_type": "code",
      "metadata": {
        "id": "gphmSH-ZczDd",
        "colab_type": "code",
        "outputId": "408e3798-b4f1-49a4-db87-b94c3502b34e",
        "colab": {
          "base_uri": "https://localhost:8080/",
          "height": 240
        }
      },
      "source": [
        "#loop para mostrar algumas fotos\n",
        "for i in range(10):\n",
        "  #quando colocamos mais de um grafico precisamos colocar um subgrafico, passando 2 linhas e 5 colunas\n",
        "  plt.subplot(2,5,i+1)\n",
        "  plt.imshow(imagens_treino[i])\n",
        "  plt.title(identificacoes_treino[i])"
      ],
      "execution_count": 9,
      "outputs": [
        {
          "output_type": "display_data",
          "data": {
            "image/png": "[encoded data removed]",
            "text/plain": [
              "<Figure size 432x288 with 10 Axes>"
            ]
          },
          "metadata": {
            "tags": [],
            "needs_background": "light"
          }
        }
      ]
    },
    {
      "cell_type": "code",
      "metadata": {
        "id": "IOK7VTURn6g4",
        "colab_type": "code",
        "outputId": "7ca2b592-8d4e-4989-db86-334e9a9d7af7",
        "colab": {
          "base_uri": "https://localhost:8080/",
          "height": 185
        }
      },
      "source": [
        "nome_classificacoes = ['camiseta','calsa','pullover','cestido','casaco',\n",
        "                       'sandalia','camisa','tenis','bolsa','bota']\n",
        "nome_classificacoes"
      ],
      "execution_count": 10,
      "outputs": [
        {
          "output_type": "execute_result",
          "data": {
            "text/plain": [
              "['camiseta',\n",
              " 'calsa',\n",
              " 'pullover',\n",
              " 'cestido',\n",
              " 'casaco',\n",
              " 'sandalia',\n",
              " 'camisa',\n",
              " 'tenis',\n",
              " 'bolsa',\n",
              " 'bota']"
            ]
          },
          "metadata": {
            "tags": []
          },
          "execution_count": 10
        }
      ]
    },
    {
      "cell_type": "code",
      "metadata": {
        "id": "qy5p0WuiriIx",
        "colab_type": "code",
        "outputId": "638c4399-bc22-4a81-fa17-db9829c82814",
        "colab": {
          "base_uri": "https://localhost:8080/",
          "height": 240
        }
      },
      "source": [
        "#loop para mostrar algumas fotos\n",
        "for i in range(10):\n",
        "  #quando colocamos mais de um grafico precisamos colocar um subgrafico, passando 2 linhas e 5 colunas\n",
        "  plt.subplot(2,5,i+1)\n",
        "  plt.imshow(imagens_treino[i])\n",
        "  plt.title(nome_classificacoes[identificacoes_treino[i]])"
      ],
      "execution_count": 11,
      "outputs": [
        {
          "output_type": "display_data",
          "data": {
            "image/png": "[encoded data removed]",
            "text/plain": [
              "<Figure size 432x288 with 10 Axes>"
            ]
          },
          "metadata": {
            "tags": [],
            "needs_background": "light"
          }
        }
      ]
    },
    {
      "cell_type": "markdown",
      "metadata": {
        "id": "rGCjAivXBSj_",
        "colab_type": "text"
      },
      "source": [
        "#Criando o modelo\n",
        "---\n",
        "camadas(layers) da rede neural\n",
        "\n",
        "modelo > entrada > processamento > saida\n",
        "\n",
        "temos  >    56    >       256     >   10  \n",
        "\n",
        "\n",
        "\n",
        "\n"
      ]
    },
    {
      "cell_type": "code",
      "metadata": {
        "id": "bf4zkJYYrkz1",
        "colab_type": "code",
        "colab": {
          "base_uri": "https://localhost:8080/",
          "height": 50
        },
        "outputId": "827dc208-5db5-43a8-d537-d34dd78e593c"
      },
      "source": [
        "#camada 0(Flatten) um achatamento transformando imagens de 28x28 pixel em 56 dimencoes\n",
        "#camada 1(Dense) camada profunca, sempre multiplo de 2 para numero de NOS e activation ReLU - funcao nao linear transforma negativo em 0 \n",
        "#camada 2(softmax), Softmax e multicamadas, descreve a \n",
        "modelo1 = keras.Sequential([\n",
        "                           keras.layers.Flatten(input_shape=(28, 28)),\n",
        "                           keras.layers.Dense(256, activation=tensorflow.nn.relu),\n",
        "                           keras.layers.Dense(10, activation=tensorflow.nn.softmax)\n",
        "                           ])\n",
        "\n",
        "#compliar o modelo, passando o otimizado(adam para valizar classes) e percar de informação(Entropia Cruzada Categórica Esparsa)\n",
        "modelo1.compile(optimizer='adam', \n",
        "               loss='sparse_categorical_crossentropy')\n",
        "\n",
        "modelo1.fit(imagens_treino, identificacoes_treino)\n",
        "#saida vemos:\n",
        "#epoch(épocas um ciculo) é quantas vezes passamos por cada uma das imagen;\n",
        "#quantidade de imagens\n",
        "#loss(perca) de 3,5% temos que ter o minimo possivel"
      ],
      "execution_count": 12,
      "outputs": [
        {
          "output_type": "stream",
          "text": [
            "1875/1875 [==============================] - 5s 2ms/step - loss: 3.6561\n"
          ],
          "name": "stdout"
        },
        {
          "output_type": "execute_result",
          "data": {
            "text/plain": [
              "<tensorflow.python.keras.callbacks.History at 0x7f1cfef8b1d0>"
            ]
          },
          "metadata": {
            "tags": []
          },
          "execution_count": 12
        }
      ]
    },
    {
      "cell_type": "markdown",
      "metadata": {
        "id": "RGnAvkhTB7xZ",
        "colab_type": "text"
      },
      "source": [
        "graduacao de cores sao as dimencoes 0 a 255. "
      ]
    },
    {
      "cell_type": "markdown",
      "metadata": {
        "id": "1LRvaGvNCiDd",
        "colab_type": "text"
      },
      "source": [
        "#normalizacao\n",
        "\n",
        "transformar as imagens de 0 a 255 para 0 e 1\n",
        "\n",
        "diminuir as variacoes de cores converter para 0 e 1 e esses valores do meio podem ser 0.1, 0.4, 0.6 ..."
      ]
    },
    {
      "cell_type": "code",
      "metadata": {
        "id": "d5tZdvKRBrBD",
        "colab_type": "code",
        "colab": {
          "base_uri": "https://localhost:8080/",
          "height": 298
        },
        "outputId": "83b6fa69-e1d7-4bf9-fc04-c74e2a5b8a06"
      },
      "source": [
        "plt.imshow(imagens_treino[3])\n",
        "plt.title(identificacoes_treino[3])\n",
        "plt.colorbar()"
      ],
      "execution_count": 20,
      "outputs": [
        {
          "output_type": "execute_result",
          "data": {
            "text/plain": [
              "<matplotlib.colorbar.Colorbar at 0x7f1d054c3c18>"
            ]
          },
          "metadata": {
            "tags": []
          },
          "execution_count": 20
        },
        {
          "output_type": "display_data",
          "data": {
            "image/png": "[encoded data removed]",
            "text/plain": [
              "<Figure size 432x288 with 2 Axes>"
            ]
          },
          "metadata": {
            "tags": [],
            "needs_background": "light"
          }
        }
      ]
    },
    {
      "cell_type": "code",
      "metadata": {
        "id": "IGrlDHSCDJxK",
        "colab_type": "code",
        "colab": {
          "base_uri": "https://localhost:8080/",
          "height": 168
        },
        "outputId": "5b6d2578-5e4f-43e6-b1f4-023ca4898473"
      },
      "source": [
        "#normalizar os dados, esse print é da primeira linha so\n",
        "print(\"original: \", imagens_treino[3][0])\n",
        "imagens_treino_normalizado = imagens_treino/float(255)\n",
        "print(\"\\n\\n normalizado: \", imagens_treino_normalizado[3][0])"
      ],
      "execution_count": 21,
      "outputs": [
        {
          "output_type": "stream",
          "text": [
            "original:  [  0   0   0   0   0   0   0   0  33  96 175 156  64  14  54 137 204 194\n",
            " 102   0   0   0   0   0   0   0   0   0]\n",
            "\n",
            "\n",
            " normalizado:  [0.         0.         0.         0.         0.         0.\n",
            " 0.         0.         0.12941176 0.37647059 0.68627451 0.61176471\n",
            " 0.25098039 0.05490196 0.21176471 0.5372549  0.8        0.76078431\n",
            " 0.4        0.         0.         0.         0.         0.\n",
            " 0.         0.         0.         0.        ]\n"
          ],
          "name": "stdout"
        }
      ]
    },
    {
      "cell_type": "code",
      "metadata": {
        "id": "ZPoYcKuDHP8a",
        "colab_type": "code",
        "colab": {
          "base_uri": "https://localhost:8080/",
          "height": 298
        },
        "outputId": "979c5cc3-1ee7-479c-9957-ec591f25fb4d"
      },
      "source": [
        "#a escala nao muda oq muda é o valor e nao tem perda na imagem\n",
        "plt.imshow(imagens_treino_normalizado[3])\n",
        "plt.title(identificacoes_treino[3])\n",
        "plt.colorbar()"
      ],
      "execution_count": 22,
      "outputs": [
        {
          "output_type": "execute_result",
          "data": {
            "text/plain": [
              "<matplotlib.colorbar.Colorbar at 0x7f1d0542bdd8>"
            ]
          },
          "metadata": {
            "tags": []
          },
          "execution_count": 22
        },
        {
          "output_type": "display_data",
          "data": {
            "image/png": "[encoded data removed]",
            "text/plain": [
              "<Figure size 432x288 with 2 Axes>"
            ]
          },
          "metadata": {
            "tags": [],
            "needs_background": "light"
          }
        }
      ]
    },
    {
      "cell_type": "code",
      "metadata": {
        "id": "MQoctgnCBrEX",
        "colab_type": "code",
        "colab": {
          "base_uri": "https://localhost:8080/",
          "height": 50
        },
        "outputId": "aa6e9cf3-4488-4afe-b7f0-7574e20a4daa"
      },
      "source": [
        "#usando imagens normalizadas\n",
        "#agora com 3 camadas 56 > 256 > 128 > 10\n",
        "modelo2 = keras.Sequential([\n",
        "                           keras.layers.Flatten(input_shape=(28, 28)),\n",
        "                           keras.layers.Dense(256, activation=tensorflow.nn.relu),\n",
        "                           keras.layers.Dense(10, activation=tensorflow.nn.softmax)\n",
        "                           ])\n",
        "\n",
        "modelo2.compile(optimizer='adam', \n",
        "               loss='sparse_categorical_crossentropy')\n",
        "\n",
        "modelo2.fit(imagens_treino_normalizado, identificacoes_treino)"
      ],
      "execution_count": 16,
      "outputs": [
        {
          "output_type": "stream",
          "text": [
            "1875/1875 [==============================] - 5s 2ms/step - loss: 0.4818\n"
          ],
          "name": "stdout"
        },
        {
          "output_type": "execute_result",
          "data": {
            "text/plain": [
              "<tensorflow.python.keras.callbacks.History at 0x7f1d0534fe10>"
            ]
          },
          "metadata": {
            "tags": []
          },
          "execution_count": 16
        }
      ]
    },
    {
      "cell_type": "markdown",
      "metadata": {
        "id": "Dgs_ajO0EGS5",
        "colab_type": "text"
      },
      "source": [
        "dimunuir a rede com outra camada, camada oculta"
      ]
    },
    {
      "cell_type": "code",
      "metadata": {
        "id": "r_5_k27BEEEn",
        "colab_type": "code",
        "colab": {
          "base_uri": "https://localhost:8080/",
          "height": 50
        },
        "outputId": "5592ebca-a5ff-4f49-d92c-3eb278aee683"
      },
      "source": [
        "#agora com 4 camadas 56 > 256 > 128 > 10\n",
        "modelo3 = keras.Sequential([\n",
        "                           keras.layers.Flatten(input_shape=(28, 28)),\n",
        "                           keras.layers.Dense(256, activation=tensorflow.nn.relu),\n",
        "                           keras.layers.Dense(128, activation=tensorflow.nn.relu),\n",
        "                           keras.layers.Dense(10, activation=tensorflow.nn.softmax)\n",
        "                           ])\n",
        "\n",
        "modelo3.compile(optimizer='adam', \n",
        "               loss='sparse_categorical_crossentropy')\n",
        "\n",
        "modelo3.fit(imagens_treino_normalizado, identificacoes_treino)\n",
        "#demoro mais por conta da nova camada\n",
        "#teve uma perca a mais"
      ],
      "execution_count": 17,
      "outputs": [
        {
          "output_type": "stream",
          "text": [
            "1875/1875 [==============================] - 5s 3ms/step - loss: 0.4726\n"
          ],
          "name": "stdout"
        },
        {
          "output_type": "execute_result",
          "data": {
            "text/plain": [
              "<tensorflow.python.keras.callbacks.History at 0x7f1d05c560f0>"
            ]
          },
          "metadata": {
            "tags": []
          },
          "execution_count": 17
        }
      ]
    },
    {
      "cell_type": "code",
      "metadata": {
        "id": "l4LjpkBHEEIN",
        "colab_type": "code",
        "colab": {
          "base_uri": "https://localhost:8080/",
          "height": 50
        },
        "outputId": "f531c1d3-ea25-4b4e-a143-620a7e014342"
      },
      "source": [
        "#agora com 5 camadas 56 > 256 > 128 > 64 > 10\n",
        "modelo4 = keras.Sequential([\n",
        "                           keras.layers.Flatten(input_shape=(28, 28)),\n",
        "                           keras.layers.Dense(256, activation=tensorflow.nn.relu),\n",
        "                           keras.layers.Dense(128, activation=tensorflow.nn.relu),\n",
        "                           keras.layers.Dense(64, activation=tensorflow.nn.relu),\n",
        "                           keras.layers.Dense(10, activation=tensorflow.nn.softmax)\n",
        "                           ])\n",
        "\n",
        "modelo4.compile(optimizer='adam', \n",
        "               loss='sparse_categorical_crossentropy')\n",
        "\n",
        "modelo4.fit(imagens_treino_normalizado, identificacoes_treino)\n",
        "#demoro mais por conta da nova camada\n",
        "#teve uma perca a mais"
      ],
      "execution_count": 18,
      "outputs": [
        {
          "output_type": "stream",
          "text": [
            "1875/1875 [==============================] - 5s 3ms/step - loss: 0.4827\n"
          ],
          "name": "stdout"
        },
        {
          "output_type": "execute_result",
          "data": {
            "text/plain": [
              "<tensorflow.python.keras.callbacks.History at 0x7f1d05c5d6a0>"
            ]
          },
          "metadata": {
            "tags": []
          },
          "execution_count": 18
        }
      ]
    },
    {
      "cell_type": "code",
      "metadata": {
        "id": "VWPEi7TxEEB2",
        "colab_type": "code",
        "colab": {
          "base_uri": "https://localhost:8080/",
          "height": 50
        },
        "outputId": "d2a9e772-ab33-422b-b18c-f5e05d5e8173"
      },
      "source": [
        "#agora com 4 camadas 56 > 64 > 10\n",
        "modelo5 = keras.Sequential([\n",
        "                           keras.layers.Flatten(input_shape=(28, 28)),\n",
        "                           keras.layers.Dense(64, activation=tensorflow.nn.relu),\n",
        "                           keras.layers.Dense(10, activation=tensorflow.nn.softmax)\n",
        "                           ])\n",
        "\n",
        "modelo5.compile(optimizer='adam', \n",
        "               loss='sparse_categorical_crossentropy')\n",
        "\n",
        "modelo5.fit(imagens_treino_normalizado, identificacoes_treino)"
      ],
      "execution_count": 19,
      "outputs": [
        {
          "output_type": "stream",
          "text": [
            "1875/1875 [==============================] - 3s 2ms/step - loss: 0.5262\n"
          ],
          "name": "stdout"
        },
        {
          "output_type": "execute_result",
          "data": {
            "text/plain": [
              "<tensorflow.python.keras.callbacks.History at 0x7f1d05633940>"
            ]
          },
          "metadata": {
            "tags": []
          },
          "execution_count": 19
        }
      ]
    },
    {
      "cell_type": "code",
      "metadata": {
        "id": "U2N0ciYdJUFX",
        "colab_type": "code",
        "colab": {}
      },
      "source": [
        ""
      ],
      "execution_count": 0,
      "outputs": []
    },
    {
      "cell_type": "code",
      "metadata": {
        "id": "4JA3Kfn7JUDk",
        "colab_type": "code",
        "colab": {}
      },
      "source": [
        ""
      ],
      "execution_count": 0,
      "outputs": []
    },
    {
      "cell_type": "code",
      "metadata": {
        "id": "VAWlbJWmJT_N",
        "colab_type": "code",
        "colab": {}
      },
      "source": [
        ""
      ],
      "execution_count": 0,
      "outputs": []
    },
    {
      "cell_type": "markdown",
      "metadata": {
        "id": "1xSdxjkEvluc",
        "colab_type": "text"
      },
      "source": [
        "#Para saber mais\n",
        "\n",
        "\n",
        "Para fazer essas transformações, precisamos explorar os dados como fazemos no curso com o pyplot do matplotlib, e usar também uma biblioteca como a scipy do Python que tem um módulo chamado ndimage apenas para lidar com imagens.\n",
        "\n",
        "from scipy import ndimage\n",
        "\n",
        "http://scipy-lectures.org/advanced/image_processing/"
      ]
    }
  ]
}